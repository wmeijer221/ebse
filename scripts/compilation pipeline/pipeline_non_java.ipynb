{
 "cells": [
  {
   "cell_type": "markdown",
   "metadata": {},
   "source": [
    "Contains the complete step-wise filter, pull, and SonarQube analysis pipeline for the provided git repositories.  \n",
    "The expected input is a list of repositories of which the data is acquired through the github web API.\n",
    "\n",
    "Make sure that a SonarQube instance is running prior to running this script and that the credentials used in the analysis phase are set correctly.\n",
    "Consider that executing this script takes quite a while to complete.\n",
    "\n",
    "- SonarQube logs are put in the `./output` folder, you can use this to figure out why SonarQube fails when analyzing certain projects.\n",
    "- The results are put in the `./results` folder.\n",
    "\n",
    "If you interrupt this script halfway through, or the script crashes at some point, it might be that it doesn't work the next run.\n",
    "Restarting Jupyter might help here, but also check if the access tokens are revoked correctly.\n",
    "Additionally, at some point the SonarQube might run out of heap memory, which is why this script is executed in batches, each of which has a corresponding sonarqube instance.\n",
    "\n",
    "This script uses bash calls to run SonarQube, so if you run this on Windows, these commands probably have to be changed somewhat.\n",
    "It's definitely not perfect either; it is quite likely it will crash a few times whilst running it.\n"
   ]
  },
  {
   "cell_type": "code",
   "execution_count": 7,
   "metadata": {},
   "outputs": [
    {
     "name": "stdout",
     "output_type": "stream",
     "text": [
      "loaded data:\n",
      "[['hawq', 'https://github.com/apache/hawq', '182943', 'master', 'C'], ['madlib', 'https://github.com/apache/madlib', '20065', 'master', 'C++'], ['incubator-heron', 'https://github.com/apache/incubator-heron', '620042', 'master', 'Java'], ['rya', 'https://github.com/apache/rya', '8748', 'master', 'Java'], ['mynewt-core', 'https://github.com/apache/mynewt-core', '180738', 'master', 'C'], ['systemds', 'https://github.com/apache/systemds', '333609', 'main', 'Java'], ['brooklyn-server', 'https://github.com/apache/brooklyn-server', '43347', 'master', 'Java'], ['fineract', 'https://github.com/apache/fineract', '52749', 'develop', 'Java'], ['lucene-solr', 'https://github.com/apache/lucene-solr', '585082', 'master', ''], ['beam', 'https://github.com/apache/beam', '267628', 'master', 'Java'], ['arrow', 'https://github.com/apache/arrow', '105924', 'master', 'C++'], ['incubator-retired-edgent', 'https://github.com/apache/incubator-retired-edgent', '25183', 'develop', 'Java'], ['nifi-minifi', 'https://github.com/apache/nifi-minifi', '1992', 'main', 'Java'], ['guacamole-client', 'https://github.com/apache/guacamole-client', '21055', 'master', 'Java'], ['commons-crypto', 'https://github.com/apache/commons-crypto', '1674', 'master', 'Java'], ['incubator-retired-quickstep', 'https://github.com/apache/incubator-retired-quickstep', '12007', 'master', 'C++'], ['nifi-minifi-cpp', 'https://github.com/apache/nifi-minifi-cpp', '36983', 'main', 'C++'], ['incubator-retired-pirk', 'https://github.com/apache/incubator-retired-pirk', '439565', 'master', 'Java'], ['carbondata', 'https://github.com/apache/carbondata', '84178', 'master', 'Scala'], ['openwhisk-website', 'https://github.com/apache/openwhisk-website', '43290', 'master', 'HTML'], ['bahir-flink', 'https://github.com/apache/bahir-flink', '1351', 'master', 'Java'], ['incubator-ariatosca', 'https://github.com/apache/incubator-ariatosca', '1745', 'master', 'Python'], ['trafficcontrol', 'https://github.com/apache/trafficcontrol', '109771', 'master', 'Go'], ['openwhisk-wskdeploy', 'https://github.com/apache/openwhisk-wskdeploy', '29356', 'master', 'Go'], ['openwhisk-package-kafka', 'https://github.com/apache/openwhisk-package-kafka', '1048', 'master', 'Python'], ['openwhisk-devtools', 'https://github.com/apache/openwhisk-devtools', '75895', 'master', 'JavaScript'], ['netbeans-website', 'https://github.com/apache/netbeans-website', '293707', 'master', 'SCSS'], ['rocketmq', 'https://github.com/apache/rocketmq', '11820', 'master', 'Java'], ['geode-examples', 'https://github.com/apache/geode-examples', '1433', 'develop', 'Java'], ['incubator-weex', 'https://github.com/apache/incubator-weex', '282740', 'master', 'C++'], ['geode-native', 'https://github.com/apache/geode-native', '23858', 'develop', 'C++'], ['nifi-registry', 'https://github.com/apache/nifi-registry', '9772', 'main', 'Java'], ['griffin', 'https://github.com/apache/griffin', '28267', 'master', 'Scala'], ['rocketmq-externals', 'https://github.com/apache/rocketmq-externals', '36170', 'master', 'Java'], ['openwhisk-deploy-kube', 'https://github.com/apache/openwhisk-deploy-kube', '1319', 'master', 'Shell'], ['servicecomb-java-chassis', 'https://github.com/apache/servicecomb-java-chassis', '18312', 'master', 'Java'], ['servicecomb-service-center', 'https://github.com/apache/servicecomb-service-center', '21987', 'master', 'Go'], ['servicecomb-pack', 'https://github.com/apache/servicecomb-pack', '15119', 'master', 'Java'], ['myfaces-tobago', 'https://github.com/apache/myfaces-tobago', '78824', 'master', 'Java'], ['daffodil', 'https://github.com/apache/daffodil', '176264', 'main', 'Scala'], ['netbeans', 'https://github.com/apache/netbeans', '343637', 'master', 'Java'], ['incubator-weex-ui', 'https://github.com/apache/incubator-weex-ui', '6179', 'master', 'Vue'], ['incubator-sdap-nexus', 'https://github.com/apache/incubator-sdap-nexus', '4842', 'master', 'Python'], ['openwhisk-release', 'https://github.com/apache/openwhisk-release', '2062', 'master', 'Shell'], ['plc4x', 'https://github.com/apache/plc4x', '135176', 'develop', 'Java'], ['skywalking-website', 'https://github.com/apache/skywalking-website', '417634', 'master', 'CSS'], ['camel-website', 'https://github.com/apache/camel-website', '723886', 'main', 'CSS']]\n"
     ]
    }
   ],
   "source": [
    "import array\n",
    "import os\n",
    "import requests\n",
    "from git import Repo, GitCommandError\n",
    "import subprocess\n",
    "from typing import Tuple\n",
    "import shutil\n",
    "from subprocess import Popen\n",
    "import time\n",
    "\n",
    "with open(\"./data/all_repositories_batch_2.csv\", \"r\") as data_file:\n",
    "    data = [entry.strip().split(\",\") for entry in data_file.readlines()[1:]]\n",
    "\n",
    "print(f'loaded data:\\n{data}')\n"
   ]
  },
  {
   "cell_type": "markdown",
   "metadata": {},
   "source": [
    "Step 1 of the lifecycle, all methods used to statically filter the repositories.\n"
   ]
  },
  {
   "cell_type": "code",
   "execution_count": 8,
   "metadata": {},
   "outputs": [],
   "source": [
    "PROJECT_TYPE = 4\n",
    "\n",
    "\n",
    "def is_not_java(entry: array) -> bool:\n",
    "    return entry[PROJECT_TYPE] != \"Java\"\n",
    "\n",
    "\n",
    "def is_considered(entry: array) -> bool:\n",
    "    \"\"\"Returns true if the project is a maven project\"\"\"\n",
    "\n",
    "    # return is_java(entry) and is_maven(entry)\n",
    "    return is_not_java(entry)\n"
   ]
  },
  {
   "cell_type": "markdown",
   "metadata": {},
   "source": [
    "Step 2 of the lifecycle, cloning a repository\n"
   ]
  },
  {
   "cell_type": "code",
   "execution_count": 9,
   "metadata": {},
   "outputs": [],
   "source": [
    "PROJECT_NAME = 0\n",
    "PROJECT_REPO_URL = 1\n",
    "DEFAULT_BRANCH = 3\n",
    "\n",
    "date = \"May 7, 2020\"\n",
    "\n",
    "\n",
    "def clone_repository(entry: array) -> Tuple[int, str]:\n",
    "    \"\"\"\n",
    "    Clones repository to the ./repos folder and \n",
    "    returns the status code and repo's folder.\n",
    "    \"\"\"\n",
    "\n",
    "    url = entry[PROJECT_REPO_URL]\n",
    "    dir = os.path.join(\"./repos\", entry[PROJECT_NAME])\n",
    "\n",
    "    try:\n",
    "        Repo.clone_from(url, dir)\n",
    "        status = 0\n",
    "\n",
    "    except GitCommandError as e:\n",
    "        if e.status != 128:\n",
    "            status = e.status\n",
    "        else:\n",
    "            status = 0\n",
    "            print(f'repository for {entry[PROJECT_NAME]} is already cloned')\n",
    "\n",
    "    finally:\n",
    "        return status, dir\n",
    "\n",
    "\n",
    "def checkout_date(dir: str, entry: array):\n",
    "    \"\"\"Checks out the latest version of the default branch at the given time.\"\"\"\n",
    "\n",
    "    os.chdir(dir)\n",
    "\n",
    "    args = [f'git rev-list -1 --before=\"{date}\" {entry[DEFAULT_BRANCH]}']\n",
    "    with Popen(args, stdout=subprocess.PIPE, stderr=None, shell=True) as get_commit:\n",
    "        commit = get_commit.stdout.read().decode('UTF-8')\n",
    "\n",
    "    args = [f'git checkout {commit}']\n",
    "    with Popen(args, stdout=subprocess.PIPE, stderr=None, shell=True) as do_checkout: \n",
    "        status = do_checkout.returncode\n",
    "\n",
    "    os.chdir(\"../..\")\n",
    "\n",
    "    return status\n"
   ]
  },
  {
   "cell_type": "markdown",
   "metadata": {},
   "source": [
    "Implements steps 3 to 5 of the lifecycle, the SonarQube steps.\n"
   ]
  },
  {
   "cell_type": "code",
   "execution_count": 10,
   "metadata": {},
   "outputs": [],
   "source": [
    "server_url = \"http://sonarqube:9000\"\n",
    "auth = ('admin', 'password')\n",
    "\n",
    "\n",
    "def create_sonarqube_project(entry: array) -> int:\n",
    "    \"\"\"Creates SonarQube project if none exists yet\"\"\"\n",
    "\n",
    "    name = entry[PROJECT_NAME]\n",
    "\n",
    "    url = f\"{server_url}/api/projects/create\"\n",
    "    data = {'name': name, 'project': name, 'visibility': 'public'}\n",
    "    c_res = requests.post(url=url, data=data, auth=auth)\n",
    "\n",
    "    return c_res.status_code\n",
    "\n",
    "\n",
    "def perform_sonarqube_analysis(entry: array, dir: str) -> int:\n",
    "    \"\"\"Executes sonarqube analysis and sends it to the server\"\"\"\n",
    "\n",
    "    name = entry[PROJECT_NAME]\n",
    "\n",
    "    # All java files are ignored as they require compiling and\n",
    "    # will cause the analysis to fail.\n",
    "    args = [\n",
    "        'sonar-scanner',\n",
    "        '-Dsonar.sources=.',\n",
    "        f'-Dsonar.projectKey={name}',\n",
    "        f'-Dsonar.host.url={server_url}',\n",
    "        f'-Dsonar.login={auth[0]}',\n",
    "        f'-Dsonar.password={auth[1]}',\n",
    "        '-Dsonar.coverage.exclusions=/**.java',\n",
    "        '-Dsonar.test.exclusions=/**.java',\n",
    "        '-Dsonar.exclusions=/**.java'\n",
    "    ]\n",
    "\n",
    "    with open(f\"./output/{name}-sonarqube-output.log\", \"w\") as output_file:\n",
    "        os.chdir(dir)\n",
    "        res = subprocess.run(args, stdout=output_file)\n",
    "\n",
    "    # TODO: this shouldn't assume two layers.\n",
    "    os.chdir(\"../..\")\n",
    "\n",
    "    return res.returncode\n",
    "\n",
    "\n",
    "def export_sonarqube_issues(entry: array):\n",
    "    \"\"\"Exports the generated issues through the web API\"\"\"\n",
    "\n",
    "    name = entry[PROJECT_NAME]\n",
    "\n",
    "    url = f\"{server_url}/api/issues/search\"\n",
    "    data = {'componentKeys': name}\n",
    "    res = requests.get(url=url, data=data, auth=auth)\n",
    "\n",
    "    with open(f\"./results/issues-{name}.json\", \"w\") as results_file:\n",
    "        results_file.write(res.text)\n"
   ]
  },
  {
   "cell_type": "markdown",
   "metadata": {},
   "source": [
    "Step 6 of the lifecycle, clean up methods\n"
   ]
  },
  {
   "cell_type": "code",
   "execution_count": 11,
   "metadata": {},
   "outputs": [],
   "source": [
    "def delete_sonarqube_project(entry: array):\n",
    "    \"\"\"Deletes sonarqube project \"\"\"\n",
    "\n",
    "    name = entry[PROJECT_NAME]\n",
    "\n",
    "    url = f'{server_url}/api/projects/delete'\n",
    "    data = {'project': name}\n",
    "    requests.post(url=url, data=data, auth=auth)\n",
    "\n",
    "\n",
    "def delete_repository(entry, dir):\n",
    "    \"\"\"Deletes repository\"\"\"\n",
    "\n",
    "    shutil.rmtree(dir)\n"
   ]
  },
  {
   "cell_type": "markdown",
   "metadata": {},
   "source": [
    "Implements the pipeline lifecycle.\n",
    "\n",
    "1. filtering repositories\n",
    "2. cloning repositories\n",
    "3. creating SonarQube project\n",
    "4. analyzing repository\n",
    "5. exporting results\n",
    "6. (optional) deleting sonarqube project\n"
   ]
  },
  {
   "cell_type": "code",
   "execution_count": 12,
   "metadata": {},
   "outputs": [
    {
     "name": "stdout",
     "output_type": "stream",
     "text": [
      "retrieving repository of hawq\n",
      "checking out at date for hawq\n"
     ]
    },
    {
     "name": "stderr",
     "output_type": "stream",
     "text": [
      "Note: switching to '67be67a872153b998d41c70b0bc0c6d358da28be'.\n",
      "\n",
      "You are in 'detached HEAD' state. You can look around, make experimental\n",
      "changes and commit them, and you can discard any commits you make in this\n",
      "state without impacting any branches by switching back to a branch.\n",
      "\n",
      "If you want to create a new branch to retain commits you create, you may\n",
      "do so (now or later) by using -c with the switch command. Example:\n",
      "\n",
      "  git switch -c <new-branch-name>\n",
      "\n",
      "Or undo this operation with:\n",
      "\n",
      "  git switch -\n",
      "\n",
      "Turn off this advice by setting config variable advice.detachedHead to false\n",
      "\n",
      "HEAD is now at 67be67a8 HAWQ-1764. fix udf debug core and improve timing accuracy\n"
     ]
    },
    {
     "name": "stdout",
     "output_type": "stream",
     "text": [
      "creating project for hawq\n",
      "running sonarqube on hawq\n"
     ]
    },
    {
     "name": "stderr",
     "output_type": "stream",
     "text": [
      "ERROR: Unable to parse file: tools/bin/pythonSrc/pychecker-0.8.18/test_input/test8.py\n",
      "ERROR: Parse error at line 4 column 11:\n",
      "\n",
      "    1: \"doc\"\n",
      "    2: \n",
      "    3: def func():\n",
      "  -->      syntax error here\n",
      "    5: EOF\n",
      "\n",
      "ERROR: Unable to parse file: src/bin/gpupgrade/transform.py\n",
      "ERROR: Parse error at line 115 column 4:\n",
      "\n",
      "  109: (tfile),\n",
      "  110:                                            'upg2_pg_class_todata.data']))\n",
      "  111:     touch_files(os.path.join([path, 'base', dbname_oid(db)], new_files)\n",
      "  112: \n",
      "  113: \n",
      "  114: \n",
      "  -->      cmd = ' '.join(['/Users/swm/greenplum-db-devel/bin/postgres', '--single', '-O', '-P',\n",
      "  116:                     '-c', 'gp_session_role=utility',\n",
      "  117:                     '-c', 'exit_on_error=true',\n",
      "  118:                     '-D', path, db])\n",
      "\n",
      "ERROR: Unable to parse file: tools/bin/pythonSrc/pychecker-0.8.18/pychecker2/tests/badparse.py\n",
      "ERROR: Parse error at line 1 column 0:\n",
      "\n",
      "  -->  ===\n",
      "    2: EOF\n",
      "\n",
      "ERROR: Unable to parse file: tools/bin/pythonSrc/pychecker-0.8.18/test_input/test58.py\n",
      "ERROR: Parse error at line 3 column 6:\n",
      "\n",
      "    1: 'Note: this will only work on Python 2.1 and before'\n",
      "    2: \n",
      "  -->  yield = None\n",
      "    4: \n",
      "    5: def x():\n",
      "    6:     yield = 53\n",
      "    7:     print yield\n",
      "    8: \n",
      "    9: def y():\n",
      "   10:     print yield\n",
      "   11: \n",
      "   12: EOF\n",
      "\n",
      "ERROR: Failed to parse file:///workspace/scripts/compilation%20pipeline/repos/hawq/tools/bin/pythonSrc/pexpect-4.2/doc/clean.css, line 99, Unknown word\n"
     ]
    },
    {
     "name": "stdout",
     "output_type": "stream",
     "text": [
      "exporting results of hawq\n",
      "cleaning up after hawq\n",
      "completed analysis on hawq\n",
      "retrieving repository of madlib\n",
      "checking out at date for madlib\n",
      "creating project for madlib\n"
     ]
    },
    {
     "name": "stderr",
     "output_type": "stream",
     "text": [
      "Note: switching to '5014eec5a3375647f86fc9b9aa67f4424cdb3a0b'.\n",
      "\n",
      "You are in 'detached HEAD' state. You can look around, make experimental\n",
      "changes and commit them, and you can discard any commits you make in this\n",
      "state without impacting any branches by switching back to a branch.\n",
      "\n",
      "If you want to create a new branch to retain commits you create, you may\n",
      "do so (now or later) by using -c with the switch command. Example:\n",
      "\n",
      "  git switch -c <new-branch-name>\n",
      "\n",
      "Or undo this operation with:\n",
      "\n",
      "  git switch -\n",
      "\n",
      "Turn off this advice by setting config variable advice.detachedHead to false\n",
      "\n",
      "HEAD is now at 5014eec5 Build: Remove function dependencies from changelist\n"
     ]
    },
    {
     "name": "stdout",
     "output_type": "stream",
     "text": [
      "running sonarqube on madlib\n",
      "exporting results of madlib\n",
      "cleaning up after madlib\n",
      "completed analysis on madlib\n",
      "filtered out incubator-heron.\n",
      "filtered out rya.\n",
      "retrieving repository of mynewt-core\n",
      "checking out at date for mynewt-core\n"
     ]
    },
    {
     "name": "stderr",
     "output_type": "stream",
     "text": [
      "Note: switching to 'fe60fec0f22b46cf5c2e07fb5ff8ea95813dd6e1'.\n",
      "\n",
      "You are in 'detached HEAD' state. You can look around, make experimental\n",
      "changes and commit them, and you can discard any commits you make in this\n",
      "state without impacting any branches by switching back to a branch.\n",
      "\n",
      "If you want to create a new branch to retain commits you create, you may\n",
      "do so (now or later) by using -c with the switch command. Example:\n",
      "\n",
      "  git switch -c <new-branch-name>\n",
      "\n",
      "Or undo this operation with:\n",
      "\n",
      "  git switch -\n",
      "\n",
      "Turn off this advice by setting config variable advice.detachedHead to false\n",
      "\n",
      "HEAD is now at fe60fec0f Fix nrf52 ADC gain setup bug.\n"
     ]
    },
    {
     "name": "stdout",
     "output_type": "stream",
     "text": [
      "creating project for mynewt-core\n",
      "running sonarqube on mynewt-core\n"
     ]
    },
    {
     "name": "stderr",
     "output_type": "stream",
     "text": [
      "ERROR: Failed to parse file:///workspace/scripts/compilation%20pipeline/repos/mynewt-core/hw/mcu/stm/stm32wbxx/src/ext/Drivers/STM32WBxx_HAL_Driver/_htmresc/mini-st.css, line 90, Unknown word\n",
      "ERROR: Failed to parse file:///workspace/scripts/compilation%20pipeline/repos/mynewt-core/hw/mcu/stm/stm32wbxx/src/ext/Drivers/CMSIS/Device/ST/STM32WBxx/_htmresc/mini-st.css, line 90, Unknown word\n"
     ]
    },
    {
     "name": "stdout",
     "output_type": "stream",
     "text": [
      "exporting results of mynewt-core\n",
      "cleaning up after mynewt-core\n",
      "completed analysis on mynewt-core\n",
      "filtered out systemds.\n",
      "filtered out brooklyn-server.\n",
      "filtered out fineract.\n",
      "retrieving repository of lucene-solr\n",
      "checking out at date for lucene-solr\n"
     ]
    },
    {
     "name": "stderr",
     "output_type": "stream",
     "text": [
      "Note: switching to '583499243a2176bef503859218fe6ba4ebb547d2'.\n",
      "\n",
      "You are in 'detached HEAD' state. You can look around, make experimental\n",
      "changes and commit them, and you can discard any commits you make in this\n",
      "state without impacting any branches by switching back to a branch.\n",
      "\n",
      "If you want to create a new branch to retain commits you create, you may\n",
      "do so (now or later) by using -c with the switch command. Example:\n",
      "\n",
      "  git switch -c <new-branch-name>\n",
      "\n",
      "Or undo this operation with:\n",
      "\n",
      "  git switch -\n",
      "\n",
      "Turn off this advice by setting config variable advice.detachedHead to false\n",
      "\n",
      "HEAD is now at 583499243a2 LUCENE-7822: CodecUtil#checkFooter should throw a CorruptIndexException as the main exception. (#1482)\n"
     ]
    },
    {
     "name": "stdout",
     "output_type": "stream",
     "text": [
      "creating project for lucene-solr\n",
      "running sonarqube on lucene-solr\n",
      "exporting results of lucene-solr\n",
      "cleaning up after lucene-solr\n",
      "completed analysis on lucene-solr\n",
      "filtered out beam.\n",
      "retrieving repository of arrow\n",
      "checking out at date for arrow\n"
     ]
    },
    {
     "name": "stderr",
     "output_type": "stream",
     "text": [
      "Note: switching to '7901b363e8cea7d1487bd36ce8c232b9cde6a6a0'.\n",
      "\n",
      "You are in 'detached HEAD' state. You can look around, make experimental\n",
      "changes and commit them, and you can discard any commits you make in this\n",
      "state without impacting any branches by switching back to a branch.\n",
      "\n",
      "If you want to create a new branch to retain commits you create, you may\n",
      "do so (now or later) by using -c with the switch command. Example:\n",
      "\n",
      "  git switch -c <new-branch-name>\n",
      "\n",
      "Or undo this operation with:\n",
      "\n",
      "  git switch -\n",
      "\n",
      "Turn off this advice by setting config variable advice.detachedHead to false\n",
      "\n",
      "HEAD is now at 7901b363e ARROW-8721: [CI] Fix R build matrix\n"
     ]
    },
    {
     "name": "stdout",
     "output_type": "stream",
     "text": [
      "creating project for arrow\n",
      "running sonarqube on arrow\n",
      "exporting results of arrow\n",
      "cleaning up after arrow\n",
      "completed analysis on arrow\n",
      "filtered out incubator-retired-edgent.\n",
      "filtered out nifi-minifi.\n",
      "filtered out guacamole-client.\n",
      "filtered out commons-crypto.\n",
      "retrieving repository of incubator-retired-quickstep\n",
      "checking out at date for incubator-retired-quickstep\n",
      "creating project for incubator-retired-quickstep\n"
     ]
    },
    {
     "name": "stderr",
     "output_type": "stream",
     "text": [
      "Note: switching to 'b07cb333385c2e5b93745f82489292f2307863ef'.\n",
      "\n",
      "You are in 'detached HEAD' state. You can look around, make experimental\n",
      "changes and commit them, and you can discard any commits you make in this\n",
      "state without impacting any branches by switching back to a branch.\n",
      "\n",
      "If you want to create a new branch to retain commits you create, you may\n",
      "do so (now or later) by using -c with the switch command. Example:\n",
      "\n",
      "  git switch -c <new-branch-name>\n",
      "\n",
      "Or undo this operation with:\n",
      "\n",
      "  git switch -\n",
      "\n",
      "Turn off this advice by setting config variable advice.detachedHead to false\n",
      "\n",
      "HEAD is now at b07cb333 Quickstep got retired from Apache Incubator\n"
     ]
    },
    {
     "name": "stdout",
     "output_type": "stream",
     "text": [
      "running sonarqube on incubator-retired-quickstep\n",
      "exporting results of incubator-retired-quickstep\n",
      "cleaning up after incubator-retired-quickstep\n",
      "completed analysis on incubator-retired-quickstep\n",
      "retrieving repository of nifi-minifi-cpp\n",
      "checking out at date for nifi-minifi-cpp\n",
      "creating project for nifi-minifi-cpp\n"
     ]
    },
    {
     "name": "stderr",
     "output_type": "stream",
     "text": [
      "fatal: ambiguous argument 'main': both revision and filename\n",
      "Use '--' to separate paths from revisions, like this:\n",
      "'git <command> [<revision>...] -- [<file>...]'\n"
     ]
    },
    {
     "name": "stdout",
     "output_type": "stream",
     "text": [
      "running sonarqube on nifi-minifi-cpp\n",
      "exporting results of nifi-minifi-cpp\n",
      "cleaning up after nifi-minifi-cpp\n",
      "completed analysis on nifi-minifi-cpp\n",
      "filtered out incubator-retired-pirk.\n",
      "retrieving repository of carbondata\n",
      "checking out at date for carbondata\n"
     ]
    },
    {
     "name": "stderr",
     "output_type": "stream",
     "text": [
      "Note: switching to 'b31c2a537133762ab596bd7bda73fe486f946b9b'.\n",
      "\n",
      "You are in 'detached HEAD' state. You can look around, make experimental\n",
      "changes and commit them, and you can discard any commits you make in this\n",
      "state without impacting any branches by switching back to a branch.\n",
      "\n",
      "If you want to create a new branch to retain commits you create, you may\n",
      "do so (now or later) by using -c with the switch command. Example:\n",
      "\n",
      "  git switch -c <new-branch-name>\n",
      "\n",
      "Or undo this operation with:\n",
      "\n",
      "  git switch -\n",
      "\n",
      "Turn off this advice by setting config variable advice.detachedHead to false\n",
      "\n",
      "HEAD is now at b31c2a537 [CARBONDATA-3791]: Query and Compaction changes in configuration parameters\n"
     ]
    },
    {
     "name": "stdout",
     "output_type": "stream",
     "text": [
      "creating project for carbondata\n",
      "running sonarqube on carbondata\n",
      "exporting results of carbondata\n",
      "cleaning up after carbondata\n",
      "completed analysis on carbondata\n",
      "retrieving repository of openwhisk-website\n",
      "checking out at date for openwhisk-website\n",
      "creating project for openwhisk-website\n"
     ]
    },
    {
     "name": "stderr",
     "output_type": "stream",
     "text": [
      "Note: switching to '7963c91b535c1d910a44c3c1c2784a080a00c5cd'.\n",
      "\n",
      "You are in 'detached HEAD' state. You can look around, make experimental\n",
      "changes and commit them, and you can discard any commits you make in this\n",
      "state without impacting any branches by switching back to a branch.\n",
      "\n",
      "If you want to create a new branch to retain commits you create, you may\n",
      "do so (now or later) by using -c with the switch command. Example:\n",
      "\n",
      "  git switch -c <new-branch-name>\n",
      "\n",
      "Or undo this operation with:\n",
      "\n",
      "  git switch -\n",
      "\n",
      "Turn off this advice by setting config variable advice.detachedHead to false\n",
      "\n",
      "HEAD is now at 7963c91 fix unescaped `&` in embedded html\n"
     ]
    },
    {
     "name": "stdout",
     "output_type": "stream",
     "text": [
      "running sonarqube on openwhisk-website\n"
     ]
    },
    {
     "name": "stderr",
     "output_type": "stream",
     "text": [
      "ERROR: Failed to parse file:///workspace/scripts/compilation%20pipeline/repos/openwhisk-website/css/main-v1.scss, line 1, Unknown word\n"
     ]
    },
    {
     "name": "stdout",
     "output_type": "stream",
     "text": [
      "exporting results of openwhisk-website\n",
      "cleaning up after openwhisk-website\n",
      "completed analysis on openwhisk-website\n",
      "filtered out bahir-flink.\n",
      "retrieving repository of incubator-ariatosca\n",
      "checking out at date for incubator-ariatosca\n",
      "creating project for incubator-ariatosca\n"
     ]
    },
    {
     "name": "stderr",
     "output_type": "stream",
     "text": [
      "Note: switching to 'd42d9d7302b5d1861a26f0071d70d10fd74141ff'.\n",
      "\n",
      "You are in 'detached HEAD' state. You can look around, make experimental\n",
      "changes and commit them, and you can discard any commits you make in this\n",
      "state without impacting any branches by switching back to a branch.\n",
      "\n",
      "If you want to create a new branch to retain commits you create, you may\n",
      "do so (now or later) by using -c with the switch command. Example:\n",
      "\n",
      "  git switch -c <new-branch-name>\n",
      "\n",
      "Or undo this operation with:\n",
      "\n",
      "  git switch -\n",
      "\n",
      "Turn off this advice by setting config variable advice.detachedHead to false\n",
      "\n",
      "HEAD is now at d42d9d7 Create RETIRED.md\n"
     ]
    },
    {
     "name": "stdout",
     "output_type": "stream",
     "text": [
      "running sonarqube on incubator-ariatosca\n",
      "exporting results of incubator-ariatosca\n",
      "cleaning up after incubator-ariatosca\n",
      "completed analysis on incubator-ariatosca\n",
      "retrieving repository of trafficcontrol\n",
      "checking out at date for trafficcontrol\n"
     ]
    },
    {
     "name": "stderr",
     "output_type": "stream",
     "text": [
      "Note: switching to '595dd2d44e3c0917d0730609a060598997179e14'.\n",
      "\n",
      "You are in 'detached HEAD' state. You can look around, make experimental\n",
      "changes and commit them, and you can discard any commits you make in this\n",
      "state without impacting any branches by switching back to a branch.\n",
      "\n",
      "If you want to create a new branch to retain commits you create, you may\n",
      "do so (now or later) by using -c with the switch command. Example:\n",
      "\n",
      "  git switch -c <new-branch-name>\n",
      "\n",
      "Or undo this operation with:\n",
      "\n",
      "  git switch -\n",
      "\n",
      "Turn off this advice by setting config variable advice.detachedHead to false\n",
      "\n",
      "HEAD is now at 595dd2d44 Clean up docker integration test and add documentation (#4682)\n"
     ]
    },
    {
     "name": "stdout",
     "output_type": "stream",
     "text": [
      "creating project for trafficcontrol\n",
      "running sonarqube on trafficcontrol\n",
      "exporting results of trafficcontrol\n",
      "cleaning up after trafficcontrol\n",
      "completed analysis on trafficcontrol\n",
      "retrieving repository of openwhisk-wskdeploy\n",
      "checking out at date for openwhisk-wskdeploy\n"
     ]
    },
    {
     "name": "stderr",
     "output_type": "stream",
     "text": [
      "Note: switching to '507394340d77f8bbdefcbab16aa3c1da77809f71'.\n",
      "\n",
      "You are in 'detached HEAD' state. You can look around, make experimental\n",
      "changes and commit them, and you can discard any commits you make in this\n",
      "state without impacting any branches by switching back to a branch.\n",
      "\n",
      "If you want to create a new branch to retain commits you create, you may\n",
      "do so (now or later) by using -c with the switch command. Example:\n",
      "\n",
      "  git switch -c <new-branch-name>\n",
      "\n",
      "Or undo this operation with:\n",
      "\n",
      "  git switch -\n",
      "\n",
      "Turn off this advice by setting config variable advice.detachedHead to false\n",
      "\n",
      "HEAD is now at 5073943 Remove misleading web-export key (#1092)\n"
     ]
    },
    {
     "name": "stdout",
     "output_type": "stream",
     "text": [
      "creating project for openwhisk-wskdeploy\n",
      "running sonarqube on openwhisk-wskdeploy\n",
      "exporting results of openwhisk-wskdeploy\n",
      "cleaning up after openwhisk-wskdeploy\n",
      "completed analysis on openwhisk-wskdeploy\n",
      "retrieving repository of openwhisk-package-kafka\n",
      "checking out at date for openwhisk-package-kafka\n",
      "creating project for openwhisk-package-kafka\n"
     ]
    },
    {
     "name": "stderr",
     "output_type": "stream",
     "text": [
      "Note: switching to 'f2526b1bcb7c5a20f43c540e6f77a9332d349998'.\n",
      "\n",
      "You are in 'detached HEAD' state. You can look around, make experimental\n",
      "changes and commit them, and you can discard any commits you make in this\n",
      "state without impacting any branches by switching back to a branch.\n",
      "\n",
      "If you want to create a new branch to retain commits you create, you may\n",
      "do so (now or later) by using -c with the switch command. Example:\n",
      "\n",
      "  git switch -c <new-branch-name>\n",
      "\n",
      "Or undo this operation with:\n",
      "\n",
      "  git switch -\n",
      "\n",
      "Turn off this advice by setting config variable advice.detachedHead to false\n",
      "\n",
      "HEAD is now at f2526b1 travis - dist:xenial and language:java (#361)\n"
     ]
    },
    {
     "name": "stdout",
     "output_type": "stream",
     "text": [
      "running sonarqube on openwhisk-package-kafka\n",
      "exporting results of openwhisk-package-kafka\n",
      "cleaning up after openwhisk-package-kafka\n",
      "completed analysis on openwhisk-package-kafka\n",
      "retrieving repository of openwhisk-devtools\n",
      "checking out at date for openwhisk-devtools\n",
      "creating project for openwhisk-devtools\n"
     ]
    },
    {
     "name": "stderr",
     "output_type": "stream",
     "text": [
      "Note: switching to 'a7f2a99910885b17493a36f23ab19adb67146ee0'.\n",
      "\n",
      "You are in 'detached HEAD' state. You can look around, make experimental\n",
      "changes and commit them, and you can discard any commits you make in this\n",
      "state without impacting any branches by switching back to a branch.\n",
      "\n",
      "If you want to create a new branch to retain commits you create, you may\n",
      "do so (now or later) by using -c with the switch command. Example:\n",
      "\n",
      "  git switch -c <new-branch-name>\n",
      "\n",
      "Or undo this operation with:\n",
      "\n",
      "  git switch -\n",
      "\n",
      "Turn off this advice by setting config variable advice.detachedHead to false\n",
      "\n",
      "HEAD is now at a7f2a99 syncrhonize RUNTIMES_MANIFEST with openwhisk's runtime.json (#315)\n"
     ]
    },
    {
     "name": "stdout",
     "output_type": "stream",
     "text": [
      "running sonarqube on openwhisk-devtools\n",
      "exporting results of openwhisk-devtools\n",
      "cleaning up after openwhisk-devtools\n",
      "completed analysis on openwhisk-devtools\n",
      "retrieving repository of netbeans-website\n",
      "checking out at date for netbeans-website\n"
     ]
    },
    {
     "name": "stderr",
     "output_type": "stream",
     "text": [
      "Note: switching to '6e2944926ceded965561adb84325057be4f37dcf'.\n",
      "\n",
      "You are in 'detached HEAD' state. You can look around, make experimental\n",
      "changes and commit them, and you can discard any commits you make in this\n",
      "state without impacting any branches by switching back to a branch.\n",
      "\n",
      "If you want to create a new branch to retain commits you create, you may\n",
      "do so (now or later) by using -c with the switch command. Example:\n",
      "\n",
      "  git switch -c <new-branch-name>\n",
      "\n",
      "Or undo this operation with:\n",
      "\n",
      "  git switch -\n",
      "\n",
      "Turn off this advice by setting config variable advice.detachedHead to false\n",
      "\n",
      "HEAD is now at 6e2944926 fixed step numbers and bullet appearance (#470)\n"
     ]
    },
    {
     "name": "stdout",
     "output_type": "stream",
     "text": [
      "creating project for netbeans-website\n",
      "running sonarqube on netbeans-website\n",
      "exporting results of netbeans-website\n",
      "cleaning up after netbeans-website\n",
      "completed analysis on netbeans-website\n",
      "filtered out rocketmq.\n",
      "filtered out geode-examples.\n",
      "retrieving repository of incubator-weex\n",
      "checking out at date for incubator-weex\n"
     ]
    },
    {
     "name": "stderr",
     "output_type": "stream",
     "text": [
      "Note: switching to 'c1ea17ebb803bf490bf646598a0f04af88b63219'.\n",
      "\n",
      "You are in 'detached HEAD' state. You can look around, make experimental\n",
      "changes and commit them, and you can discard any commits you make in this\n",
      "state without impacting any branches by switching back to a branch.\n",
      "\n",
      "If you want to create a new branch to retain commits you create, you may\n",
      "do so (now or later) by using -c with the switch command. Example:\n",
      "\n",
      "  git switch -c <new-branch-name>\n",
      "\n",
      "Or undo this operation with:\n",
      "\n",
      "  git switch -\n",
      "\n",
      "Turn off this advice by setting config variable advice.detachedHead to false\n",
      "\n",
      "HEAD is now at c1ea17ebb Merge pull request #3205 from jianhan-he/master\n"
     ]
    },
    {
     "name": "stdout",
     "output_type": "stream",
     "text": [
      "creating project for incubator-weex\n",
      "running sonarqube on incubator-weex\n"
     ]
    },
    {
     "name": "stderr",
     "output_type": "stream",
     "text": [
      "ERROR: Failed to parse file [test/js-framework/case/basic/if-repeat.output.js] at line 3: Missing semicolon. (3:10)\n",
      "ERROR: Failed to parse file [examples/vue/showcase/include/util.js] at line 21: Unexpected token (21:1)\n",
      "ERROR: Failed to parse file [test/js-framework/case/complex/inline-click.output.js] at line 2: Missing semicolon. (2:7)\n",
      "ERROR: Failed to parse file [test/js-framework/case/basic/backward1.output.js] at line 3: Missing semicolon. (3:7)\n",
      "ERROR: Failed to parse file [test/js-framework/case/basic/repeat-array-non-obj.output.js] at line 3: Missing semicolon. (3:10)\n",
      "ERROR: Failed to parse file [test/js-framework/case/basic/repeat-array-kv.output.js] at line 3: Missing semicolon. (3:10)\n",
      "ERROR: Failed to parse file [test/js-framework/case/basic/foo2.output.js] at line 3: Missing semicolon. (3:8)\n",
      "ERROR: Failed to parse file [test/js-framework/case/signals/modal.output.js] at line 3: Missing semicolon. (3:10)\n",
      "ERROR: Failed to parse file [test/js-framework/case/basic/require.output.js] at line 3: Missing semicolon. (3:12)\n",
      "ERROR: Failed to parse file [test/js-framework/case/basic/dynamic-property.output.js] at line 2: Missing semicolon. (2:8)\n",
      "ERROR: Failed to parse file [test/js-framework/case/basic/repeat-index.output.js] at line 3: Missing semicolon. (3:10)\n",
      "ERROR: Failed to parse file [test/js-framework/case/basic/computed-in-repeat.output.js] at line 2: Missing semicolon. (2:10)\n",
      "ERROR: Failed to parse file [test/js-framework/case/basic/components.output.js] at line 2: Missing semicolon. (2:10)\n",
      "ERROR: Failed to parse file [test/js-framework/case/complex/click.output.js] at line 3: Missing semicolon. (3:7)\n",
      "ERROR: Failed to parse file [test/js-framework/case/basic/reset-style.output.js] at line 2: Missing semicolon. (2:8)\n",
      "ERROR: Failed to parse file [test/js-framework/case/basic/dynamic-type.output.js] at line 3: Missing semicolon. (3:10)\n",
      "ERROR: Failed to parse file [test/js-framework/case/complex/input-binding.output.js] at line 2: Missing semicolon. (2:12)\n",
      "ERROR: Failed to parse file [test/js-framework/case/basic/foo9.output.js] at line 3: Missing semicolon. (3:7)\n",
      "ERROR: Failed to parse file [test/js-framework/case/basic/foo5.output.js] at line 3: Missing semicolon. (3:10)\n",
      "ERROR: Failed to parse file [test/js-framework/case/basic/static1.output.js] at line 2: Missing semicolon. (2:8)\n",
      "ERROR: Failed to parse file [test/js-framework/case/complex/repeat-track-by.output.js] at line 3: Missing semicolon. (3:10)\n",
      "ERROR: Failed to parse file [test/js-framework/case/complex/if-repeat-refresh.output.js] at line 3: Missing semicolon. (3:10)\n",
      "ERROR: Failed to parse file [test/js-framework/case/basic/repeat-array-no-kv.output.js] at line 3: Missing semicolon. (3:10)\n",
      "ERROR: Failed to parse file [test/js-framework/case/basic/dynamic-id.output.js] at line 3: Missing semicolon. (3:10)\n",
      "ERROR: Failed to parse file [test/js-framework/case/basic/static3.output.js] at line 2: Missing semicolon. (2:8)\n",
      "ERROR: Failed to parse file [test/js-framework/case/basic/foo7.output.js] at line 3: Missing semicolon. (3:7)\n",
      "ERROR: Failed to parse file [test/js-framework/case/basic/id.output.js] at line 3: Missing semicolon. (3:10)\n",
      "ERROR: Failed to parse file [test/js-framework/case/basic/repeat-watch.output.js] at line 2: Missing semicolon. (2:10)\n",
      "ERROR: Failed to parse file [test/js-framework/case/basic/static4.output.js] at line 2: Missing semicolon. (2:8)\n",
      "ERROR: Failed to parse file [test/js-framework/case/complex/component-append-tree.output.js] at line 3: Missing semicolon. (3:10)\n",
      "ERROR: Failed to parse file [test/js-framework/case/basic/foo6.output.js] at line 3: Missing semicolon. (3:7)\n",
      "ERROR: Failed to parse file [test/js-framework/case/multi/clear-moduleB.output.js] at line 2: Missing semicolon. (2:8)\n",
      "ERROR: Failed to parse file [test/js-framework/case/basic/foo8.output.js] at line 3: Missing semicolon. (3:10)\n",
      "ERROR: Failed to parse file [test/js-framework/case/multi/clear-moduleA.output.js] at line 2: Missing semicolon. (2:8)\n",
      "ERROR: Failed to parse file [test/js-framework/case/complex/append-root-event.output.js] at line 3: Missing semicolon. (3:6)\n",
      "ERROR: Failed to parse file [test/js-framework/case/basic/if.output.js] at line 3: Missing semicolon. (3:10)\n",
      "ERROR: Failed to parse file [test/js-framework/case/multi/clear-dep-target-fine.output.js] at line 2: Missing semicolon. (2:8)\n",
      "ERROR: Failed to parse file [test/js-framework/case/complex/refresh2.output.js] at line 2: Missing semicolon. (2:10)\n",
      "ERROR: Failed to parse file [test/js-framework/case/basic/global-weex-object.output.js] at line 3: Missing semicolon. (3:8)\n",
      "ERROR: Failed to parse file [test/js-framework/case/basic/static2.output.js] at line 2: Missing semicolon. (2:8)\n",
      "ERROR: Failed to parse file [test/js-framework/case/basic/repeat-array-v.output.js] at line 3: Missing semicolon. (3:10)\n",
      "ERROR: Failed to parse file [test/js-framework/case/signals/timer.output.js] at line 3: Missing semicolon. (3:10)\n",
      "ERROR: Failed to parse file [test/js-framework/case/basic/foo3.output.js] at line 3: Missing semicolon. (3:12)\n",
      "ERROR: Failed to parse file [test/js-framework/case/basic/foo4.output.js] at line 3: Missing semicolon. (3:10)\n",
      "ERROR: Failed to parse file [test/js-framework/case/basic/ready.output.js] at line 2: Missing semicolon. (2:12)\n",
      "ERROR: Failed to parse file [test/js-framework/case/basic/subvm.output.js] at line 2: Missing semicolon. (2:10)\n",
      "ERROR: Failed to parse file [test/js-framework/case/basic/append-root.output.js] at line 3: Missing semicolon. (3:7)\n",
      "ERROR: Failed to parse file [test/js-framework/case/complex/computed.output.js] at line 3: Missing semicolon. (3:7)\n",
      "ERROR: Failed to parse file [test/js-framework/case/basic/append.output.js] at line 3: Missing semicolon. (3:7)\n",
      "ERROR: Failed to parse file [test/js-framework/case/basic/created.output.js] at line 2: Missing semicolon. (2:12)\n",
      "ERROR: Failed to parse file [test/js-framework/case/basic/backward2.output.js] at line 3: Missing semicolon. (3:7)\n"
     ]
    },
    {
     "name": "stdout",
     "output_type": "stream",
     "text": [
      "exporting results of incubator-weex\n",
      "cleaning up after incubator-weex\n",
      "completed analysis on incubator-weex\n",
      "retrieving repository of geode-native\n",
      "checking out at date for geode-native\n"
     ]
    },
    {
     "name": "stderr",
     "output_type": "stream",
     "text": [
      "Note: switching to 'e620cea3c9c17519fe80aac6e9b8ad952f7d9e64'.\n",
      "\n",
      "You are in 'detached HEAD' state. You can look around, make experimental\n",
      "changes and commit them, and you can discard any commits you make in this\n",
      "state without impacting any branches by switching back to a branch.\n",
      "\n",
      "If you want to create a new branch to retain commits you create, you may\n",
      "do so (now or later) by using -c with the switch command. Example:\n",
      "\n",
      "  git switch -c <new-branch-name>\n",
      "\n",
      "Or undo this operation with:\n",
      "\n",
      "  git switch -\n",
      "\n",
      "Turn off this advice by setting config variable advice.detachedHead to false\n",
      "\n",
      "HEAD is now at e620cea3 Bumping copyright year to 2020\n"
     ]
    },
    {
     "name": "stdout",
     "output_type": "stream",
     "text": [
      "creating project for geode-native\n",
      "running sonarqube on geode-native\n",
      "exporting results of geode-native\n",
      "cleaning up after geode-native\n",
      "completed analysis on geode-native\n",
      "filtered out nifi-registry.\n",
      "retrieving repository of griffin\n",
      "checking out at date for griffin\n",
      "creating project for griffin\n"
     ]
    },
    {
     "name": "stderr",
     "output_type": "stream",
     "text": [
      "Note: switching to '3b77ccc018655b64ea12af5807f18f19dc642a17'.\n",
      "\n",
      "You are in 'detached HEAD' state. You can look around, make experimental\n",
      "changes and commit them, and you can discard any commits you make in this\n",
      "state without impacting any branches by switching back to a branch.\n",
      "\n",
      "If you want to create a new branch to retain commits you create, you may\n",
      "do so (now or later) by using -c with the switch command. Example:\n",
      "\n",
      "  git switch -c <new-branch-name>\n",
      "\n",
      "Or undo this operation with:\n",
      "\n",
      "  git switch -\n",
      "\n",
      "Turn off this advice by setting config variable advice.detachedHead to false\n",
      "\n",
      "HEAD is now at 3b77ccc0 [GRIFFIN-316] Fix job exception handling\n"
     ]
    },
    {
     "name": "stdout",
     "output_type": "stream",
     "text": [
      "running sonarqube on griffin\n",
      "exporting results of griffin\n",
      "cleaning up after griffin\n",
      "completed analysis on griffin\n",
      "filtered out rocketmq-externals.\n",
      "retrieving repository of openwhisk-deploy-kube\n",
      "checking out at date for openwhisk-deploy-kube\n",
      "creating project for openwhisk-deploy-kube\n"
     ]
    },
    {
     "name": "stderr",
     "output_type": "stream",
     "text": [
      "Note: switching to '54c3d672f8e3747f44be37075e0292126e960579'.\n",
      "\n",
      "You are in 'detached HEAD' state. You can look around, make experimental\n",
      "changes and commit them, and you can discard any commits you make in this\n",
      "state without impacting any branches by switching back to a branch.\n",
      "\n",
      "If you want to create a new branch to retain commits you create, you may\n",
      "do so (now or later) by using -c with the switch command. Example:\n",
      "\n",
      "  git switch -c <new-branch-name>\n",
      "\n",
      "Or undo this operation with:\n",
      "\n",
      "  git switch -\n",
      "\n",
      "Turn off this advice by setting config variable advice.detachedHead to false\n",
      "\n",
      "HEAD is now at 54c3d67 use apigw 1.0.0 (#599)\n"
     ]
    },
    {
     "name": "stdout",
     "output_type": "stream",
     "text": [
      "running sonarqube on openwhisk-deploy-kube\n",
      "exporting results of openwhisk-deploy-kube\n",
      "cleaning up after openwhisk-deploy-kube\n",
      "completed analysis on openwhisk-deploy-kube\n",
      "filtered out servicecomb-java-chassis.\n",
      "retrieving repository of servicecomb-service-center\n",
      "checking out at date for servicecomb-service-center\n",
      "creating project for servicecomb-service-center\n"
     ]
    },
    {
     "name": "stderr",
     "output_type": "stream",
     "text": [
      "Note: switching to 'd422a1f75fbd0aaa0d8eb6b92245c25a4052137e'.\n",
      "\n",
      "You are in 'detached HEAD' state. You can look around, make experimental\n",
      "changes and commit them, and you can discard any commits you make in this\n",
      "state without impacting any branches by switching back to a branch.\n",
      "\n",
      "If you want to create a new branch to retain commits you create, you may\n",
      "do so (now or later) by using -c with the switch command. Example:\n",
      "\n",
      "  git switch -c <new-branch-name>\n",
      "\n",
      "Or undo this operation with:\n",
      "\n",
      "  git switch -\n",
      "\n",
      "Turn off this advice by setting config variable advice.detachedHead to false\n",
      "\n",
      "HEAD is now at d422a1f7 Modify GRPC module and optimize dependencies\n"
     ]
    },
    {
     "name": "stdout",
     "output_type": "stream",
     "text": [
      "running sonarqube on servicecomb-service-center\n"
     ]
    },
    {
     "name": "stderr",
     "output_type": "stream",
     "text": [
      "ERROR: Failed to parse file [scripts/release/licenses/LICENSE-yaml.js] at line 1: Missing semicolon. (1:13)\n"
     ]
    },
    {
     "name": "stdout",
     "output_type": "stream",
     "text": [
      "exporting results of servicecomb-service-center\n",
      "cleaning up after servicecomb-service-center\n",
      "completed analysis on servicecomb-service-center\n",
      "filtered out servicecomb-pack.\n",
      "filtered out myfaces-tobago.\n",
      "retrieving repository of daffodil\n",
      "checking out at date for daffodil\n"
     ]
    },
    {
     "name": "stderr",
     "output_type": "stream",
     "text": [
      "Note: switching to '56fe8fee1af3bb6ba885fcf638e13ceb39fa257b'.\n",
      "\n",
      "You are in 'detached HEAD' state. You can look around, make experimental\n",
      "changes and commit them, and you can discard any commits you make in this\n",
      "state without impacting any branches by switching back to a branch.\n",
      "\n",
      "If you want to create a new branch to retain commits you create, you may\n",
      "do so (now or later) by using -c with the switch command. Example:\n",
      "\n",
      "  git switch -c <new-branch-name>\n",
      "\n",
      "Or undo this operation with:\n",
      "\n",
      "  git switch -\n",
      "\n",
      "Turn off this advice by setting config variable advice.detachedHead to false\n",
      "\n",
      "HEAD is now at 56fe8fee1 Moved VariableMap to runtime1/VariableMapFactory\n"
     ]
    },
    {
     "name": "stdout",
     "output_type": "stream",
     "text": [
      "creating project for daffodil\n",
      "running sonarqube on daffodil\n"
     ]
    },
    {
     "name": "stderr",
     "output_type": "stream",
     "text": [
      "ERROR: Error during SonarScanner execution\n",
      "ERROR: File daffodil-cli/src/it/scala/org/apache/daffodil/listing/TestCLIListing.scala can't be indexed twice. Please check that inclusion/exclusion patterns produce disjoint sets for main and test files\n",
      "ERROR: \n",
      "ERROR: Re-run SonarScanner using the -X switch to enable full debug logging.\n"
     ]
    },
    {
     "name": "stdout",
     "output_type": "stream",
     "text": [
      "sonarqube analysis failed for daffodil with status 2\n",
      "cleaning up after daffodil\n",
      "completed analysis on daffodil\n",
      "filtered out netbeans.\n",
      "retrieving repository of incubator-weex-ui\n",
      "checking out at date for incubator-weex-ui\n",
      "creating project for incubator-weex-ui\n"
     ]
    },
    {
     "name": "stderr",
     "output_type": "stream",
     "text": [
      "Note: switching to '7ffdac103da2c723abdff0799c921b92b2ee6ce7'.\n",
      "\n",
      "You are in 'detached HEAD' state. You can look around, make experimental\n",
      "changes and commit them, and you can discard any commits you make in this\n",
      "state without impacting any branches by switching back to a branch.\n",
      "\n",
      "If you want to create a new branch to retain commits you create, you may\n",
      "do so (now or later) by using -c with the switch command. Example:\n",
      "\n",
      "  git switch -c <new-branch-name>\n",
      "\n",
      "Or undo this operation with:\n",
      "\n",
      "  git switch -\n",
      "\n",
      "Turn off this advice by setting config variable advice.detachedHead to false\n",
      "\n",
      "HEAD is now at 7ffdac1 Merge pull request #497 from ReedSun/dev\n"
     ]
    },
    {
     "name": "stdout",
     "output_type": "stream",
     "text": [
      "running sonarqube on incubator-weex-ui\n",
      "exporting results of incubator-weex-ui\n",
      "cleaning up after incubator-weex-ui\n",
      "completed analysis on incubator-weex-ui\n",
      "retrieving repository of incubator-sdap-nexus\n",
      "checking out at date for incubator-sdap-nexus\n",
      "creating project for incubator-sdap-nexus\n"
     ]
    },
    {
     "name": "stderr",
     "output_type": "stream",
     "text": [
      "Note: switching to '8f05da6372f7498c5e170a29c816d654ae74adfa'.\n",
      "\n",
      "You are in 'detached HEAD' state. You can look around, make experimental\n",
      "changes and commit them, and you can discard any commits you make in this\n",
      "state without impacting any branches by switching back to a branch.\n",
      "\n",
      "If you want to create a new branch to retain commits you create, you may\n",
      "do so (now or later) by using -c with the switch command. Example:\n",
      "\n",
      "  git switch -c <new-branch-name>\n",
      "\n",
      "Or undo this operation with:\n",
      "\n",
      "  git switch -\n",
      "\n",
      "Turn off this advice by setting config variable advice.detachedHead to false\n",
      "\n",
      "HEAD is now at 8f05da6 SDAP-220: temporal variance algorithm (#93)\n"
     ]
    },
    {
     "name": "stdout",
     "output_type": "stream",
     "text": [
      "running sonarqube on incubator-sdap-nexus\n",
      "exporting results of incubator-sdap-nexus\n",
      "cleaning up after incubator-sdap-nexus\n",
      "completed analysis on incubator-sdap-nexus\n",
      "retrieving repository of openwhisk-release\n",
      "checking out at date for openwhisk-release\n",
      "creating project for openwhisk-release\n"
     ]
    },
    {
     "name": "stderr",
     "output_type": "stream",
     "text": [
      "Note: switching to '5f921bb804abd25898dc104ee681a030135b6143'.\n",
      "\n",
      "You are in 'detached HEAD' state. You can look around, make experimental\n",
      "changes and commit them, and you can discard any commits you make in this\n",
      "state without impacting any branches by switching back to a branch.\n",
      "\n",
      "If you want to create a new branch to retain commits you create, you may\n",
      "do so (now or later) by using -c with the switch command. Example:\n",
      "\n",
      "  git switch -c <new-branch-name>\n",
      "\n",
      "Or undo this operation with:\n",
      "\n",
      "  git switch -\n",
      "\n",
      "Turn off this advice by setting config variable advice.detachedHead to false\n",
      "\n",
      "HEAD is now at 5f921bb openwhisk-client-js v3.21.2 (#335)\n"
     ]
    },
    {
     "name": "stdout",
     "output_type": "stream",
     "text": [
      "running sonarqube on openwhisk-release\n",
      "exporting results of openwhisk-release\n",
      "cleaning up after openwhisk-release\n",
      "completed analysis on openwhisk-release\n",
      "filtered out plc4x.\n",
      "retrieving repository of skywalking-website\n"
     ]
    },
    {
     "ename": "UnboundLocalError",
     "evalue": "local variable 'status' referenced before assignment",
     "output_type": "error",
     "traceback": [
      "\u001b[0;31m---------------------------------------------------------------------------\u001b[0m",
      "\u001b[0;31mKeyboardInterrupt\u001b[0m                         Traceback (most recent call last)",
      "Input \u001b[0;32mIn [9]\u001b[0m, in \u001b[0;36mclone_repository\u001b[0;34m(entry)\u001b[0m\n\u001b[1;32m     17\u001b[0m \u001b[38;5;28;01mtry\u001b[39;00m:\n\u001b[0;32m---> 18\u001b[0m     \u001b[43mRepo\u001b[49m\u001b[38;5;241;43m.\u001b[39;49m\u001b[43mclone_from\u001b[49m\u001b[43m(\u001b[49m\u001b[43murl\u001b[49m\u001b[43m,\u001b[49m\u001b[43m \u001b[49m\u001b[38;5;28;43mdir\u001b[39;49m\u001b[43m)\u001b[49m\n\u001b[1;32m     19\u001b[0m     status \u001b[38;5;241m=\u001b[39m \u001b[38;5;241m0\u001b[39m\n",
      "File \u001b[0;32m/usr/local/lib/python3.9/dist-packages/git/repo/base.py:1148\u001b[0m, in \u001b[0;36mRepo.clone_from\u001b[0;34m(cls, url, to_path, progress, env, multi_options, **kwargs)\u001b[0m\n\u001b[1;32m   1147\u001b[0m     git\u001b[38;5;241m.\u001b[39mupdate_environment(\u001b[38;5;241m*\u001b[39m\u001b[38;5;241m*\u001b[39menv)\n\u001b[0;32m-> 1148\u001b[0m \u001b[38;5;28;01mreturn\u001b[39;00m \u001b[38;5;28;43mcls\u001b[39;49m\u001b[38;5;241;43m.\u001b[39;49m\u001b[43m_clone\u001b[49m\u001b[43m(\u001b[49m\u001b[43mgit\u001b[49m\u001b[43m,\u001b[49m\u001b[43m \u001b[49m\u001b[43murl\u001b[49m\u001b[43m,\u001b[49m\u001b[43m \u001b[49m\u001b[43mto_path\u001b[49m\u001b[43m,\u001b[49m\u001b[43m \u001b[49m\u001b[43mGitCmdObjectDB\u001b[49m\u001b[43m,\u001b[49m\u001b[43m \u001b[49m\u001b[43mprogress\u001b[49m\u001b[43m,\u001b[49m\u001b[43m \u001b[49m\u001b[43mmulti_options\u001b[49m\u001b[43m,\u001b[49m\u001b[43m \u001b[49m\u001b[38;5;241;43m*\u001b[39;49m\u001b[38;5;241;43m*\u001b[39;49m\u001b[43mkwargs\u001b[49m\u001b[43m)\u001b[49m\n",
      "File \u001b[0;32m/usr/local/lib/python3.9/dist-packages/git/repo/base.py:1081\u001b[0m, in \u001b[0;36mRepo._clone\u001b[0;34m(cls, git, url, path, odb_default_type, progress, multi_options, **kwargs)\u001b[0m\n\u001b[1;32m   1080\u001b[0m \u001b[38;5;28;01melse\u001b[39;00m:\n\u001b[0;32m-> 1081\u001b[0m     (stdout, stderr) \u001b[38;5;241m=\u001b[39m \u001b[43mproc\u001b[49m\u001b[38;5;241;43m.\u001b[39;49m\u001b[43mcommunicate\u001b[49m\u001b[43m(\u001b[49m\u001b[43m)\u001b[49m\n\u001b[1;32m   1082\u001b[0m     cmdline \u001b[38;5;241m=\u001b[39m \u001b[38;5;28mgetattr\u001b[39m(proc, \u001b[38;5;124m'\u001b[39m\u001b[38;5;124margs\u001b[39m\u001b[38;5;124m'\u001b[39m, \u001b[38;5;124m'\u001b[39m\u001b[38;5;124m'\u001b[39m)\n",
      "File \u001b[0;32m/usr/lib/python3.9/subprocess.py:1134\u001b[0m, in \u001b[0;36mPopen.communicate\u001b[0;34m(self, input, timeout)\u001b[0m\n\u001b[1;32m   1133\u001b[0m \u001b[38;5;28;01mtry\u001b[39;00m:\n\u001b[0;32m-> 1134\u001b[0m     stdout, stderr \u001b[38;5;241m=\u001b[39m \u001b[38;5;28;43mself\u001b[39;49m\u001b[38;5;241;43m.\u001b[39;49m\u001b[43m_communicate\u001b[49m\u001b[43m(\u001b[49m\u001b[38;5;28;43minput\u001b[39;49m\u001b[43m,\u001b[49m\u001b[43m \u001b[49m\u001b[43mendtime\u001b[49m\u001b[43m,\u001b[49m\u001b[43m \u001b[49m\u001b[43mtimeout\u001b[49m\u001b[43m)\u001b[49m\n\u001b[1;32m   1135\u001b[0m \u001b[38;5;28;01mexcept\u001b[39;00m \u001b[38;5;167;01mKeyboardInterrupt\u001b[39;00m:\n\u001b[1;32m   1136\u001b[0m     \u001b[38;5;66;03m# https://bugs.python.org/issue25942\u001b[39;00m\n\u001b[1;32m   1137\u001b[0m     \u001b[38;5;66;03m# See the detailed comment in .wait().\u001b[39;00m\n",
      "File \u001b[0;32m/usr/lib/python3.9/subprocess.py:1981\u001b[0m, in \u001b[0;36mPopen._communicate\u001b[0;34m(self, input, endtime, orig_timeout)\u001b[0m\n\u001b[1;32m   1977\u001b[0m     \u001b[38;5;28;01mraise\u001b[39;00m \u001b[38;5;167;01mRuntimeError\u001b[39;00m(  \u001b[38;5;66;03m# Impossible :)\u001b[39;00m\n\u001b[1;32m   1978\u001b[0m         \u001b[38;5;124m'\u001b[39m\u001b[38;5;124m_check_timeout(..., skip_check_and_raise=True) \u001b[39m\u001b[38;5;124m'\u001b[39m\n\u001b[1;32m   1979\u001b[0m         \u001b[38;5;124m'\u001b[39m\u001b[38;5;124mfailed to raise TimeoutExpired.\u001b[39m\u001b[38;5;124m'\u001b[39m)\n\u001b[0;32m-> 1981\u001b[0m ready \u001b[38;5;241m=\u001b[39m \u001b[43mselector\u001b[49m\u001b[38;5;241;43m.\u001b[39;49m\u001b[43mselect\u001b[49m\u001b[43m(\u001b[49m\u001b[43mtimeout\u001b[49m\u001b[43m)\u001b[49m\n\u001b[1;32m   1982\u001b[0m \u001b[38;5;28mself\u001b[39m\u001b[38;5;241m.\u001b[39m_check_timeout(endtime, orig_timeout, stdout, stderr)\n",
      "File \u001b[0;32m/usr/lib/python3.9/selectors.py:416\u001b[0m, in \u001b[0;36m_PollLikeSelector.select\u001b[0;34m(self, timeout)\u001b[0m\n\u001b[1;32m    415\u001b[0m \u001b[38;5;28;01mtry\u001b[39;00m:\n\u001b[0;32m--> 416\u001b[0m     fd_event_list \u001b[38;5;241m=\u001b[39m \u001b[38;5;28;43mself\u001b[39;49m\u001b[38;5;241;43m.\u001b[39;49m\u001b[43m_selector\u001b[49m\u001b[38;5;241;43m.\u001b[39;49m\u001b[43mpoll\u001b[49m\u001b[43m(\u001b[49m\u001b[43mtimeout\u001b[49m\u001b[43m)\u001b[49m\n\u001b[1;32m    417\u001b[0m \u001b[38;5;28;01mexcept\u001b[39;00m \u001b[38;5;167;01mInterruptedError\u001b[39;00m:\n",
      "\u001b[0;31mKeyboardInterrupt\u001b[0m: ",
      "\nDuring handling of the above exception, another exception occurred:\n",
      "\u001b[0;31mUnboundLocalError\u001b[0m                         Traceback (most recent call last)",
      "Input \u001b[0;32mIn [12]\u001b[0m, in \u001b[0;36m<module>\u001b[0;34m\u001b[0m\n\u001b[1;32m     44\u001b[0m     \u001b[38;5;28mprint\u001b[39m(\u001b[38;5;124mf\u001b[39m\u001b[38;5;124m'\u001b[39m\u001b[38;5;124mcompleted analysis on \u001b[39m\u001b[38;5;132;01m{\u001b[39;00mname\u001b[38;5;132;01m}\u001b[39;00m\u001b[38;5;124m'\u001b[39m)\n\u001b[1;32m     47\u001b[0m \u001b[38;5;28;01mfor\u001b[39;00m entry \u001b[38;5;129;01min\u001b[39;00m data:\n\u001b[0;32m---> 48\u001b[0m     \u001b[43mperform_lifecycle\u001b[49m\u001b[43m(\u001b[49m\u001b[43mentry\u001b[49m\u001b[43m)\u001b[49m\n",
      "Input \u001b[0;32mIn [12]\u001b[0m, in \u001b[0;36mperform_lifecycle\u001b[0;34m(entry)\u001b[0m\n\u001b[1;32m     10\u001b[0m \u001b[38;5;66;03m# step 2: cloning repositories.\u001b[39;00m\n\u001b[1;32m     11\u001b[0m \u001b[38;5;28mprint\u001b[39m(\u001b[38;5;124mf\u001b[39m\u001b[38;5;124m'\u001b[39m\u001b[38;5;124mretrieving repository of \u001b[39m\u001b[38;5;132;01m{\u001b[39;00mname\u001b[38;5;132;01m}\u001b[39;00m\u001b[38;5;124m'\u001b[39m)\n\u001b[0;32m---> 12\u001b[0m status, \u001b[38;5;28mdir\u001b[39m \u001b[38;5;241m=\u001b[39m \u001b[43mclone_repository\u001b[49m\u001b[43m(\u001b[49m\u001b[43mentry\u001b[49m\u001b[43m)\u001b[49m\n\u001b[1;32m     13\u001b[0m \u001b[38;5;28;01mif\u001b[39;00m status \u001b[38;5;241m!=\u001b[39m \u001b[38;5;241m0\u001b[39m:\n\u001b[1;32m     14\u001b[0m     \u001b[38;5;28mprint\u001b[39m(\u001b[38;5;124mf\u001b[39m\u001b[38;5;124m'\u001b[39m\u001b[38;5;124mcloning repository failed for \u001b[39m\u001b[38;5;132;01m{\u001b[39;00mname\u001b[38;5;132;01m}\u001b[39;00m\u001b[38;5;124m with status \u001b[39m\u001b[38;5;132;01m{\u001b[39;00mstatus\u001b[38;5;132;01m}\u001b[39;00m\u001b[38;5;124m'\u001b[39m)\n",
      "Input \u001b[0;32mIn [9]\u001b[0m, in \u001b[0;36mclone_repository\u001b[0;34m(entry)\u001b[0m\n\u001b[1;32m     26\u001b[0m         \u001b[38;5;28mprint\u001b[39m(\u001b[38;5;124mf\u001b[39m\u001b[38;5;124m'\u001b[39m\u001b[38;5;124mrepository for \u001b[39m\u001b[38;5;132;01m{\u001b[39;00mentry[PROJECT_NAME]\u001b[38;5;132;01m}\u001b[39;00m\u001b[38;5;124m is already cloned\u001b[39m\u001b[38;5;124m'\u001b[39m)\n\u001b[1;32m     28\u001b[0m \u001b[38;5;28;01mfinally\u001b[39;00m:\n\u001b[0;32m---> 29\u001b[0m     \u001b[38;5;28;01mreturn\u001b[39;00m \u001b[43mstatus\u001b[49m, \u001b[38;5;28mdir\u001b[39m\n",
      "\u001b[0;31mUnboundLocalError\u001b[0m: local variable 'status' referenced before assignment"
     ]
    }
   ],
   "source": [
    "def perform_lifecycle(entry: array):\n",
    "\n",
    "    name = entry[PROJECT_NAME]\n",
    "\n",
    "    # step 1: filtering\n",
    "    if not is_considered(entry):\n",
    "        print(f\"filtered out {name}.\")\n",
    "        return\n",
    "\n",
    "    # step 2: cloning repositories.\n",
    "    print(f'retrieving repository of {name}')\n",
    "    status, dir = clone_repository(entry)\n",
    "    if status != 0:\n",
    "        print(f'cloning repository failed for {name} with status {status}')\n",
    "        return\n",
    "\n",
    "    time.sleep(1)\n",
    "    # step 2a: checking out at date.\n",
    "    print(f'checking out at date for {name}')\n",
    "    checkout_date(dir, entry)\n",
    "\n",
    "    # step 3: creating sonarqube project\n",
    "    print(f'creating project for {name}')\n",
    "    status = create_sonarqube_project(entry)\n",
    "    if status != 200:\n",
    "        print(f'creating project failed for {name}')\n",
    "        return\n",
    "\n",
    "    # step 4: running SonarQube\n",
    "    print(f'running sonarqube on {name}')\n",
    "    status = perform_sonarqube_analysis(entry, dir)\n",
    "    if status != 0:\n",
    "        print(f'sonarqube analysis failed for {name} with status {status}')\n",
    "    else:\n",
    "        # step 5: extracting sonarqube data\n",
    "        print(f'exporting results of {name}')\n",
    "        export_sonarqube_issues(entry)\n",
    "\n",
    "    # step 6: deleting sonarqube project\n",
    "    print(f'cleaning up after {name}')\n",
    "    # delete_sonarqube_project(entry)\n",
    "    # delete_repository(entry, dir)\n",
    "\n",
    "    print(f'completed analysis on {name}')\n",
    "\n",
    "\n",
    "for entry in data:\n",
    "    perform_lifecycle(entry)\n"
   ]
  }
 ],
 "metadata": {
  "interpreter": {
   "hash": "916dbcbb3f70747c44a77c7bcd40155683ae19c65e1c03b4aa3499c5328201f1"
  },
  "kernelspec": {
   "display_name": "Python 3.8.10 64-bit",
   "language": "python",
   "name": "python3"
  },
  "language_info": {
   "codemirror_mode": {
    "name": "ipython",
    "version": 3
   },
   "file_extension": ".py",
   "mimetype": "text/x-python",
   "name": "python",
   "nbconvert_exporter": "python",
   "pygments_lexer": "ipython3",
   "version": "3.9.2"
  },
  "orig_nbformat": 4
 },
 "nbformat": 4,
 "nbformat_minor": 2
}

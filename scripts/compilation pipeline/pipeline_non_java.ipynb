{
 "cells": [
  {
   "cell_type": "markdown",
   "metadata": {},
   "source": [
    "Contains the complete step-wise filter, pull, and SonarQube analysis pipeline for the provided git repositories.  \n",
    "The expected input is a list of repositories of which the data is acquired through the github web API.\n",
    "\n",
    "Make sure that a SonarQube instance is running prior to running this script and that the credentials used in the analysis phase are set correctly.\n",
    "Consider that executing this script takes quite a while to complete.\n",
    "\n",
    "- SonarQube logs are put in the `./output` folder, you can use this to figure out why SonarQube fails when analyzing certain projects.\n",
    "- The results are put in the `./results` folder.\n",
    "\n",
    "If you interrupt this script halfway through, or the script crashes at some point, it might be that it doesn't work the next run.\n",
    "Restarting Jupyter might help here, but also check if the access tokens are revoked correctly.\n",
    "Additionally, at some point the SonarQube might run out of heap memory, which is why this script is executed in batches, each of which has a corresponding sonarqube instance.\n",
    "\n",
    "This script uses bash calls to run SonarQube, so if you run this on Windows, these commands probably have to be changed somewhat.\n",
    "It's definitely not perfect either; it is quite likely it will crash a few times whilst running it.\n"
   ]
  },
  {
   "cell_type": "code",
   "execution_count": 1,
   "metadata": {},
   "outputs": [
    {
     "name": "stdout",
     "output_type": "stream",
     "text": [
      "loaded data:\n",
      "[['zookeeper', 'https://github.com/apache/zookeeper', '128397', 'master', 'Java'], ['camel', 'https://github.com/apache/camel', '572222', 'main', 'Java'], ['nutch', 'https://github.com/apache/nutch', '136780', 'master', 'Java'], ['commons-lang', 'https://github.com/apache/commons-lang', '26071', 'master', 'Java'], ['activemq', 'https://github.com/apache/activemq', '58435', 'main', 'Java'], ['hive', 'https://github.com/apache/hive', '561127', 'master', 'Java'], ['trafficserver', 'https://github.com/apache/trafficserver', '132898', 'master', 'C++'], ['jmeter', 'https://github.com/apache/jmeter', '91357', 'master', 'Java'], ['karaf', 'https://github.com/apache/karaf', '67084', 'main', 'Java'], ['bookkeeper', 'https://github.com/apache/bookkeeper', '58252', 'master', 'Java'], ['bigtop', 'https://github.com/apache/bigtop', '63745', 'master', 'Groovy'], ['kafka', 'https://github.com/apache/kafka', '132860', 'trunk', 'Java'], ['ambari', 'https://github.com/apache/ambari', '365428', 'trunk', 'Java'], ['accumulo', 'https://github.com/apache/accumulo', '82049', 'main', 'Java'], ['jackrabbit-oak', 'https://github.com/apache/jackrabbit-oak', '74960', 'trunk', 'Java'], ['dubbo', 'https://github.com/apache/dubbo', '38969', '3', 'Java'], ['drill', 'https://github.com/apache/drill', '62845', 'master', 'Java'], ['druid', 'https://github.com/apache/druid', '237594', 'master', 'Java'], ['jena', 'https://github.com/apache/jena', '422407', 'main', 'Java'], ['tomee', 'https://github.com/apache/tomee', '83303', 'master', 'Java'], ['echarts', 'https://github.com/apache/echarts', '211688', 'master', 'TypeScript'], ['cloudstack', 'https://github.com/apache/cloudstack', '569870', 'main', 'Java'], ['cordova-plugin-camera', 'https://github.com/apache/cordova-plugin-camera', '1848', 'master', 'Objective-C'], ['cordova-plugin-file', 'https://github.com/apache/cordova-plugin-file', '2237', 'master', 'JavaScript'], ['cordova-plugin-inappbrowser', 'https://github.com/apache/cordova-plugin-inappbrowser', '1782', 'master', 'Objective-C'], ['cordova-plugin-media', 'https://github.com/apache/cordova-plugin-media', '859', 'master', 'JavaScript'], ['storm', 'https://github.com/apache/storm', '205501', 'master', 'Java'], ['usergrid', 'https://github.com/apache/usergrid', '383452', 'master', 'Java'], ['helix', 'https://github.com/apache/helix', '90523', 'master', 'Java'], ['jackrabbit-filevault', 'https://github.com/apache/jackrabbit-filevault', '4594', 'master', 'Java'], ['qpid-dispatch', 'https://github.com/apache/qpid-dispatch', '39834', 'main', 'C'], ['cxf', 'https://github.com/apache/cxf', '123757', 'master', 'Java'], ['spark', 'https://github.com/apache/spark', '403520', 'master', 'Scala'], ['streams', 'https://github.com/apache/streams', '147991', 'master', 'Java'], ['tajo', 'https://github.com/apache/tajo', '30703', 'master', 'Java'], ['incubator-brooklyn', 'https://github.com/apache/incubator-brooklyn', '258028', 'master', 'Java'], ['pinot', 'https://github.com/apache/pinot', '230622', 'master', 'Java'], ['hbase', 'https://github.com/apache/hbase', '437860', 'master', 'Java'], ['stratos', 'https://github.com/apache/stratos', '67395', 'master', 'Java'], ['phoenix', 'https://github.com/apache/phoenix', '70565', 'master', 'Java'], ['flink', 'https://github.com/apache/flink', '424680', 'master', 'Java'], ['parquet-cpp', 'https://github.com/apache/parquet-cpp', '2700', 'master', 'C++'], ['parquet-mr', 'https://github.com/apache/parquet-mr', '17808', 'master', 'Java'], ['calcite', 'https://github.com/apache/calcite', '76558', 'master', 'Java'], ['hadoop', 'https://github.com/apache/hadoop', '530412', 'trunk', 'Java'], ['reef', 'https://github.com/apache/reef', '40208', 'master', 'Java'], ['karaf-decanter', 'https://github.com/apache/karaf-decanter', '8363', 'main', 'Java'], ['commons-text', 'https://github.com/apache/commons-text', '2737', 'master', 'Java'], ['infrastructure-puppet', 'https://github.com/apache/infrastructure-puppet', '44255', 'deployment', 'Python'], ['gobblin', 'https://github.com/apache/gobblin', '129749', 'master', 'Java'], ['nifi', 'https://github.com/apache/nifi', '193267', 'main', 'Java'], ['kylin', 'https://github.com/apache/kylin', '304908', 'main', 'Java'], ['tinkerpop', 'https://github.com/apache/tinkerpop', '182945', 'master', 'Java'], ['ignite', 'https://github.com/apache/ignite', '412735', 'master', 'Java'], ['samza', 'https://github.com/apache/samza', '33795', 'master', 'Java'], ['zeppelin', 'https://github.com/apache/zeppelin', '98047', 'master', 'Java'], ['airflow', 'https://github.com/apache/airflow', '143976', 'main', 'Python'], ['groovy', 'https://github.com/apache/groovy', '198280', 'master', 'Java'], ['geode', 'https://github.com/apache/geode', '210604', 'develop', 'Java'], ['incubator-mxnet', 'https://github.com/apache/incubator-mxnet', '97246', 'master', 'C++'], ['orc', 'https://github.com/apache/orc', '39668', 'main', 'HTML'], ['flink-web', 'https://github.com/apache/flink-web', '126363', 'asf-site', 'HTML'], ['activemq-artemis', 'https://github.com/apache/activemq-artemis', '63913', 'main', 'Java'], ['trafodion', 'https://github.com/apache/trafodion', '88977', 'master', 'C++'], ['apex-core', 'https://github.com/apache/apex-core', '14807', 'master', 'Java'], ['apex-malhar', 'https://github.com/apache/apex-malhar', '91989', 'master', 'Java']]\n"
     ]
    }
   ],
   "source": [
    "import array\n",
    "import os\n",
    "import requests\n",
    "from git import Repo, GitCommandError\n",
    "import subprocess\n",
    "from typing import Tuple\n",
    "import shutil\n",
    "from subprocess import Popen\n",
    "import time\n",
    "\n",
    "with open(\"./data/all_repositories_batch_2.csv\", \"r\") as data_file:\n",
    "    data = [entry.strip().split(\",\") for entry in data_file.readlines()[1:]]\n",
    "\n",
    "print(f'loaded data:\\n{data}')\n"
   ]
  },
  {
   "cell_type": "markdown",
   "metadata": {},
   "source": [
    "Step 1 of the lifecycle, all methods used to statically filter the repositories.\n"
   ]
  },
  {
   "cell_type": "code",
   "execution_count": 2,
   "metadata": {},
   "outputs": [],
   "source": [
    "PROJECT_TYPE = 4\n",
    "\n",
    "\n",
    "def is_not_java(entry: array) -> bool:\n",
    "    return entry[PROJECT_TYPE] != \"Java\"\n",
    "\n",
    "\n",
    "def is_considered(entry: array) -> bool:\n",
    "    \"\"\"Returns true if the project is a maven project\"\"\"\n",
    "\n",
    "    # return is_java(entry) and is_maven(entry)\n",
    "    return is_not_java(entry)\n"
   ]
  },
  {
   "cell_type": "markdown",
   "metadata": {},
   "source": [
    "Step 2 of the lifecycle, cloning a repository\n"
   ]
  },
  {
   "cell_type": "code",
   "execution_count": 3,
   "metadata": {},
   "outputs": [],
   "source": [
    "PROJECT_NAME = 0\n",
    "PROJECT_REPO_URL = 1\n",
    "DEFAULT_BRANCH = 3\n",
    "\n",
    "date = \"May 7, 2020\"\n",
    "\n",
    "\n",
    "def clone_repository(entry: array) -> Tuple[int, str]:\n",
    "    \"\"\"\n",
    "    Clones repository to the ./repos folder and \n",
    "    returns the status code and repo's folder.\n",
    "    \"\"\"\n",
    "\n",
    "    url = entry[PROJECT_REPO_URL]\n",
    "    dir = os.path.join(\"./repos\", entry[PROJECT_NAME])\n",
    "\n",
    "    try:\n",
    "        Repo.clone_from(url, dir)\n",
    "        status = 0\n",
    "\n",
    "    except GitCommandError as e:\n",
    "        if e.status != 128:\n",
    "            status = e.status\n",
    "        else:\n",
    "            status = 0\n",
    "            print(f'repository for {entry[PROJECT_NAME]} is already cloned')\n",
    "\n",
    "    finally:\n",
    "        return status, dir\n",
    "\n",
    "\n",
    "def checkout_date(dir: str, entry: array):\n",
    "    \"\"\"Checks out the latest version of the default branch at the given time.\"\"\"\n",
    "\n",
    "    os.chdir(dir)\n",
    "\n",
    "    args = [f'git rev-list -1 --before=\"{date}\" {entry[DEFAULT_BRANCH]}']\n",
    "    with Popen(args, stdout=subprocess.PIPE, stderr=None, shell=True) as get_commit:\n",
    "        commit = get_commit.stdout.read().decode('UTF-8')\n",
    "\n",
    "    args = [f'git checkout {commit}']\n",
    "    with Popen(args, stdout=subprocess.PIPE, stderr=None, shell=True) as do_checkout: \n",
    "        status = do_checkout.returncode\n",
    "\n",
    "    os.chdir(\"../..\")\n",
    "\n",
    "    return status\n"
   ]
  },
  {
   "cell_type": "markdown",
   "metadata": {},
   "source": [
    "Implements steps 3 to 5 of the lifecycle, the SonarQube steps.\n"
   ]
  },
  {
   "cell_type": "code",
   "execution_count": 4,
   "metadata": {},
   "outputs": [],
   "source": [
    "server_url = \"http://sonarqube:9000\"\n",
    "auth = ('admin', 'password')\n",
    "\n",
    "\n",
    "def create_sonarqube_project(entry: array) -> int:\n",
    "    \"\"\"Creates SonarQube project if none exists yet\"\"\"\n",
    "\n",
    "    name = entry[PROJECT_NAME]\n",
    "\n",
    "    url = f\"{server_url}/api/projects/create\"\n",
    "    data = {'name': name, 'project': name, 'visibility': 'public'}\n",
    "    c_res = requests.post(url=url, data=data, auth=auth)\n",
    "\n",
    "    return c_res.status_code\n",
    "\n",
    "\n",
    "def perform_sonarqube_analysis(entry: array, dir: str) -> int:\n",
    "    \"\"\"Executes sonarqube analysis and sends it to the server\"\"\"\n",
    "\n",
    "    name = entry[PROJECT_NAME]\n",
    "\n",
    "    # All java files are ignored as they require compiling and\n",
    "    # will cause the analysis to fail.\n",
    "    args = [\n",
    "        'sonar-scanner',\n",
    "        '-Dsonar.sources=.',\n",
    "        f'-Dsonar.projectKey={name}',\n",
    "        f'-Dsonar.host.url={server_url}',\n",
    "        f'-Dsonar.login={auth[0]}',\n",
    "        f'-Dsonar.password={auth[1]}',\n",
    "        '-Dsonar.coverage.exclusions=/**.java',\n",
    "        '-Dsonar.test.exclusions=/**.java',\n",
    "        '-Dsonar.exclusions=/**.java'\n",
    "    ]\n",
    "\n",
    "    with open(f\"./output/{name}-sonarqube-output.log\", \"w\") as output_file:\n",
    "        os.chdir(dir)\n",
    "        res = subprocess.run(args, stdout=output_file)\n",
    "\n",
    "    # TODO: this shouldn't assume two layers.\n",
    "    os.chdir(\"../..\")\n",
    "\n",
    "    return res.returncode\n",
    "\n",
    "\n",
    "def export_sonarqube_issues(entry: array):\n",
    "    \"\"\"Exports the generated issues through the web API\"\"\"\n",
    "\n",
    "    name = entry[PROJECT_NAME]\n",
    "\n",
    "    url = f\"{server_url}/api/issues/search\"\n",
    "    data = {'componentKeys': name}\n",
    "    res = requests.get(url=url, data=data, auth=auth)\n",
    "\n",
    "    with open(f\"./results/issues-{name}.json\", \"w\") as results_file:\n",
    "        results_file.write(res.text)\n"
   ]
  },
  {
   "cell_type": "markdown",
   "metadata": {},
   "source": [
    "Step 6 of the lifecycle, clean up methods\n"
   ]
  },
  {
   "cell_type": "code",
   "execution_count": 5,
   "metadata": {},
   "outputs": [],
   "source": [
    "def delete_sonarqube_project(entry: array):\n",
    "    \"\"\"Deletes sonarqube project \"\"\"\n",
    "\n",
    "    name = entry[PROJECT_NAME]\n",
    "\n",
    "    url = f'{server_url}/api/projects/delete'\n",
    "    data = {'project': name}\n",
    "    requests.post(url=url, data=data, auth=auth)\n",
    "\n",
    "\n",
    "def delete_repository(entry, dir):\n",
    "    \"\"\"Deletes repository\"\"\"\n",
    "\n",
    "    shutil.rmtree(dir)\n"
   ]
  },
  {
   "cell_type": "markdown",
   "metadata": {},
   "source": [
    "Implements the pipeline lifecycle.\n",
    "\n",
    "1. filtering repositories\n",
    "2. cloning repositories\n",
    "3. creating SonarQube project\n",
    "4. analyzing repository\n",
    "5. exporting results\n",
    "6. (optional) deleting sonarqube project\n"
   ]
  },
  {
   "cell_type": "code",
   "execution_count": 6,
   "metadata": {},
   "outputs": [
    {
     "name": "stdout",
     "output_type": "stream",
     "text": [
      "filtered out zookeeper.\n",
      "filtered out camel.\n",
      "filtered out nutch.\n",
      "filtered out commons-lang.\n",
      "filtered out activemq.\n",
      "filtered out hive.\n",
      "retrieving repository of trafficserver\n",
      "checking out at date for trafficserver\n"
     ]
    },
    {
     "name": "stderr",
     "output_type": "stream",
     "text": [
      "Note: switching to 'ad89f720fa1bc769db5f0aac9897ff2689c74051'.\n",
      "\n",
      "You are in 'detached HEAD' state. You can look around, make experimental\n",
      "changes and commit them, and you can discard any commits you make in this\n",
      "state without impacting any branches by switching back to a branch.\n",
      "\n",
      "If you want to create a new branch to retain commits you create, you may\n",
      "do so (now or later) by using -c with the switch command. Example:\n",
      "\n",
      "  git switch -c <new-branch-name>\n",
      "\n",
      "Or undo this operation with:\n",
      "\n",
      "  git switch -\n",
      "\n",
      "Turn off this advice by setting config variable advice.detachedHead to false\n",
      "\n",
      "HEAD is now at ad89f720f Fix typos in comments\n"
     ]
    },
    {
     "name": "stdout",
     "output_type": "stream",
     "text": [
      "creating project for trafficserver\n",
      "running sonarqube on trafficserver\n",
      "exporting results of trafficserver\n",
      "cleaning up after trafficserver\n",
      "completed analysis on trafficserver\n",
      "filtered out jmeter.\n",
      "filtered out karaf.\n",
      "filtered out bookkeeper.\n",
      "retrieving repository of bigtop\n",
      "checking out at date for bigtop\n",
      "creating project for bigtop\n"
     ]
    },
    {
     "name": "stderr",
     "output_type": "stream",
     "text": [
      "Note: switching to '5784cad1f3a32dcbe3001f1f1db55eac2c947a3f'.\n",
      "\n",
      "You are in 'detached HEAD' state. You can look around, make experimental\n",
      "changes and commit them, and you can discard any commits you make in this\n",
      "state without impacting any branches by switching back to a branch.\n",
      "\n",
      "If you want to create a new branch to retain commits you create, you may\n",
      "do so (now or later) by using -c with the switch command. Example:\n",
      "\n",
      "  git switch -c <new-branch-name>\n",
      "\n",
      "Or undo this operation with:\n",
      "\n",
      "  git switch -\n",
      "\n",
      "Turn off this advice by setting config variable advice.detachedHead to false\n",
      "\n",
      "HEAD is now at 5784cad1 BIGTOP-3353: hive.hwi.war.file configuration is no longer needed (#638)\n"
     ]
    },
    {
     "name": "stdout",
     "output_type": "stream",
     "text": [
      "running sonarqube on bigtop\n",
      "exporting results of bigtop\n",
      "cleaning up after bigtop\n",
      "completed analysis on bigtop\n",
      "filtered out kafka.\n",
      "filtered out ambari.\n",
      "filtered out accumulo.\n",
      "filtered out jackrabbit-oak.\n",
      "filtered out dubbo.\n",
      "filtered out drill.\n",
      "filtered out druid.\n",
      "filtered out jena.\n",
      "filtered out tomee.\n",
      "retrieving repository of echarts\n",
      "checking out at date for echarts\n"
     ]
    },
    {
     "name": "stderr",
     "output_type": "stream",
     "text": [
      "Note: switching to '1368d2c03f37ddc1ca0783ebaf30b50ff26b0a15'.\n",
      "\n",
      "You are in 'detached HEAD' state. You can look around, make experimental\n",
      "changes and commit them, and you can discard any commits you make in this\n",
      "state without impacting any branches by switching back to a branch.\n",
      "\n",
      "If you want to create a new branch to retain commits you create, you may\n",
      "do so (now or later) by using -c with the switch command. Example:\n",
      "\n",
      "  git switch -c <new-branch-name>\n",
      "\n",
      "Or undo this operation with:\n",
      "\n",
      "  git switch -\n",
      "\n",
      "Turn off this advice by setting config variable advice.detachedHead to false\n",
      "\n",
      "HEAD is now at 1368d2c03 feat(bmap): add `mapOptions` for bmap extension.\n"
     ]
    },
    {
     "name": "stdout",
     "output_type": "stream",
     "text": [
      "creating project for echarts\n",
      "running sonarqube on echarts\n",
      "exporting results of echarts\n",
      "cleaning up after echarts\n",
      "completed analysis on echarts\n",
      "filtered out cloudstack.\n",
      "retrieving repository of cordova-plugin-camera\n",
      "checking out at date for cordova-plugin-camera\n",
      "creating project for cordova-plugin-camera\n"
     ]
    },
    {
     "name": "stderr",
     "output_type": "stream",
     "text": [
      "Note: switching to 'ba4f77468ff83377607aab775ebdb3faaff6a8f9'.\n",
      "\n",
      "You are in 'detached HEAD' state. You can look around, make experimental\n",
      "changes and commit them, and you can discard any commits you make in this\n",
      "state without impacting any branches by switching back to a branch.\n",
      "\n",
      "If you want to create a new branch to retain commits you create, you may\n",
      "do so (now or later) by using -c with the switch command. Example:\n",
      "\n",
      "  git switch -c <new-branch-name>\n",
      "\n",
      "Or undo this operation with:\n",
      "\n",
      "  git switch -\n",
      "\n",
      "Turn off this advice by setting config variable advice.detachedHead to false\n",
      "\n",
      "HEAD is now at ba4f774 chore(release): 4.2.0-dev\n"
     ]
    },
    {
     "name": "stdout",
     "output_type": "stream",
     "text": [
      "running sonarqube on cordova-plugin-camera\n",
      "exporting results of cordova-plugin-camera\n",
      "cleaning up after cordova-plugin-camera\n",
      "completed analysis on cordova-plugin-camera\n",
      "retrieving repository of cordova-plugin-file\n",
      "checking out at date for cordova-plugin-file\n",
      "creating project for cordova-plugin-file\n"
     ]
    },
    {
     "name": "stderr",
     "output_type": "stream",
     "text": [
      "Note: switching to '7d76943c376da404e8fd797ec687c1138c63796c'.\n",
      "\n",
      "You are in 'detached HEAD' state. You can look around, make experimental\n",
      "changes and commit them, and you can discard any commits you make in this\n",
      "state without impacting any branches by switching back to a branch.\n",
      "\n",
      "If you want to create a new branch to retain commits you create, you may\n",
      "do so (now or later) by using -c with the switch command. Example:\n",
      "\n",
      "  git switch -c <new-branch-name>\n",
      "\n",
      "Or undo this operation with:\n",
      "\n",
      "  git switch -\n",
      "\n",
      "Turn off this advice by setting config variable advice.detachedHead to false\n",
      "\n",
      "HEAD is now at 7d76943 chore(asf): update git notification settings\n"
     ]
    },
    {
     "name": "stdout",
     "output_type": "stream",
     "text": [
      "running sonarqube on cordova-plugin-file\n",
      "exporting results of cordova-plugin-file\n",
      "cleaning up after cordova-plugin-file\n",
      "completed analysis on cordova-plugin-file\n",
      "retrieving repository of cordova-plugin-inappbrowser\n",
      "checking out at date for cordova-plugin-inappbrowser\n",
      "creating project for cordova-plugin-inappbrowser\n"
     ]
    },
    {
     "name": "stderr",
     "output_type": "stream",
     "text": [
      "Note: switching to '2793e16ab433a413580e2a3a5ccbc40eda46c3b6'.\n",
      "\n",
      "You are in 'detached HEAD' state. You can look around, make experimental\n",
      "changes and commit them, and you can discard any commits you make in this\n",
      "state without impacting any branches by switching back to a branch.\n",
      "\n",
      "If you want to create a new branch to retain commits you create, you may\n",
      "do so (now or later) by using -c with the switch command. Example:\n",
      "\n",
      "  git switch -c <new-branch-name>\n",
      "\n",
      "Or undo this operation with:\n",
      "\n",
      "  git switch -\n",
      "\n",
      "Turn off this advice by setting config variable advice.detachedHead to false\n",
      "\n",
      "HEAD is now at 2793e16 fix(ios): prevent statusbar rotation after closing InAppBrowser (#672)\n"
     ]
    },
    {
     "name": "stdout",
     "output_type": "stream",
     "text": [
      "running sonarqube on cordova-plugin-inappbrowser\n",
      "exporting results of cordova-plugin-inappbrowser\n",
      "cleaning up after cordova-plugin-inappbrowser\n",
      "completed analysis on cordova-plugin-inappbrowser\n",
      "retrieving repository of cordova-plugin-media\n",
      "checking out at date for cordova-plugin-media\n",
      "creating project for cordova-plugin-media\n"
     ]
    },
    {
     "name": "stderr",
     "output_type": "stream",
     "text": [
      "Note: switching to 'cd2cdacb39a1d98d64113c4790124e2dd024b472'.\n",
      "\n",
      "You are in 'detached HEAD' state. You can look around, make experimental\n",
      "changes and commit them, and you can discard any commits you make in this\n",
      "state without impacting any branches by switching back to a branch.\n",
      "\n",
      "If you want to create a new branch to retain commits you create, you may\n",
      "do so (now or later) by using -c with the switch command. Example:\n",
      "\n",
      "  git switch -c <new-branch-name>\n",
      "\n",
      "Or undo this operation with:\n",
      "\n",
      "  git switch -\n",
      "\n",
      "Turn off this advice by setting config variable advice.detachedHead to false\n",
      "\n",
      "HEAD is now at cd2cdac chore(asf): update git notification settings\n"
     ]
    },
    {
     "name": "stdout",
     "output_type": "stream",
     "text": [
      "running sonarqube on cordova-plugin-media\n",
      "exporting results of cordova-plugin-media\n",
      "cleaning up after cordova-plugin-media\n",
      "completed analysis on cordova-plugin-media\n",
      "filtered out storm.\n",
      "filtered out usergrid.\n",
      "filtered out helix.\n",
      "filtered out jackrabbit-filevault.\n",
      "retrieving repository of qpid-dispatch\n",
      "checking out at date for qpid-dispatch\n",
      "creating project for qpid-dispatch\n"
     ]
    },
    {
     "name": "stderr",
     "output_type": "stream",
     "text": [
      "Note: switching to '936d679f754639895dccccf85b665651ed4d73f3'.\n",
      "\n",
      "You are in 'detached HEAD' state. You can look around, make experimental\n",
      "changes and commit them, and you can discard any commits you make in this\n",
      "state without impacting any branches by switching back to a branch.\n",
      "\n",
      "If you want to create a new branch to retain commits you create, you may\n",
      "do so (now or later) by using -c with the switch command. Example:\n",
      "\n",
      "  git switch -c <new-branch-name>\n",
      "\n",
      "Or undo this operation with:\n",
      "\n",
      "  git switch -\n",
      "\n",
      "Turn off this advice by setting config variable advice.detachedHead to false\n",
      "\n",
      "HEAD is now at 936d679f DISPATCH-1637: Added a hashtable to store names of link routes, auto links and address configs. This closes #732.\n"
     ]
    },
    {
     "name": "stdout",
     "output_type": "stream",
     "text": [
      "running sonarqube on qpid-dispatch\n",
      "exporting results of qpid-dispatch\n",
      "cleaning up after qpid-dispatch\n",
      "completed analysis on qpid-dispatch\n",
      "filtered out cxf.\n",
      "retrieving repository of spark\n",
      "checking out at date for spark\n"
     ]
    },
    {
     "name": "stderr",
     "output_type": "stream",
     "text": [
      "Note: switching to '272d229005b7166ab83bbb8f44a4d5e9d89424a1'.\n",
      "\n",
      "You are in 'detached HEAD' state. You can look around, make experimental\n",
      "changes and commit them, and you can discard any commits you make in this\n",
      "state without impacting any branches by switching back to a branch.\n",
      "\n",
      "If you want to create a new branch to retain commits you create, you may\n",
      "do so (now or later) by using -c with the switch command. Example:\n",
      "\n",
      "  git switch -c <new-branch-name>\n",
      "\n",
      "Or undo this operation with:\n",
      "\n",
      "  git switch -\n",
      "\n",
      "Turn off this advice by setting config variable advice.detachedHead to false\n",
      "\n",
      "HEAD is now at 272d229005 [SPARK-31361][SQL][TESTS][FOLLOWUP] Check non-vectorized Parquet reader while date/timestamp rebasing\n"
     ]
    },
    {
     "name": "stdout",
     "output_type": "stream",
     "text": [
      "creating project for spark\n",
      "running sonarqube on spark\n",
      "exporting results of spark\n",
      "cleaning up after spark\n",
      "completed analysis on spark\n",
      "filtered out streams.\n",
      "filtered out tajo.\n",
      "filtered out incubator-brooklyn.\n",
      "filtered out pinot.\n",
      "filtered out hbase.\n",
      "filtered out stratos.\n",
      "filtered out phoenix.\n",
      "filtered out flink.\n",
      "retrieving repository of parquet-cpp\n",
      "checking out at date for parquet-cpp\n",
      "creating project for parquet-cpp\n"
     ]
    },
    {
     "name": "stderr",
     "output_type": "stream",
     "text": [
      "Note: switching to '642da055adf009652689b20e68a198cffb857651'.\n",
      "\n",
      "You are in 'detached HEAD' state. You can look around, make experimental\n",
      "changes and commit them, and you can discard any commits you make in this\n",
      "state without impacting any branches by switching back to a branch.\n",
      "\n",
      "If you want to create a new branch to retain commits you create, you may\n",
      "do so (now or later) by using -c with the switch command. Example:\n",
      "\n",
      "  git switch -c <new-branch-name>\n",
      "\n",
      "Or undo this operation with:\n",
      "\n",
      "  git switch -\n",
      "\n",
      "Turn off this advice by setting config variable advice.detachedHead to false\n",
      "\n",
      "HEAD is now at 642da05 Incrementing snapshot version to 1.5.1-SNAPSHOT.\n"
     ]
    },
    {
     "name": "stdout",
     "output_type": "stream",
     "text": [
      "running sonarqube on parquet-cpp\n",
      "exporting results of parquet-cpp\n",
      "cleaning up after parquet-cpp\n",
      "completed analysis on parquet-cpp\n",
      "filtered out parquet-mr.\n",
      "filtered out calcite.\n",
      "filtered out hadoop.\n",
      "filtered out reef.\n",
      "filtered out karaf-decanter.\n",
      "filtered out commons-text.\n",
      "retrieving repository of infrastructure-puppet\n",
      "checking out at date for infrastructure-puppet\n"
     ]
    },
    {
     "name": "stderr",
     "output_type": "stream",
     "text": [
      "Note: switching to '725ae7cd1a5fe7a886935990e3170fc7ffde1ad1'.\n",
      "\n",
      "You are in 'detached HEAD' state. You can look around, make experimental\n",
      "changes and commit them, and you can discard any commits you make in this\n",
      "state without impacting any branches by switching back to a branch.\n",
      "\n",
      "If you want to create a new branch to retain commits you create, you may\n",
      "do so (now or later) by using -c with the switch command. Example:\n",
      "\n",
      "  git switch -c <new-branch-name>\n",
      "\n",
      "Or undo this operation with:\n",
      "\n",
      "  git switch -\n",
      "\n",
      "Turn off this advice by setting config variable advice.detachedHead to false\n",
      "\n",
      "HEAD is now at 725ae7cd1 recrypt eyaml\n"
     ]
    },
    {
     "name": "stdout",
     "output_type": "stream",
     "text": [
      "creating project for infrastructure-puppet\n",
      "running sonarqube on infrastructure-puppet\n"
     ]
    },
    {
     "name": "stderr",
     "output_type": "stream",
     "text": [
      "ERROR: Unable to parse file: modules/qmail_asf/files/apmail/bin/generate-qmail-pmcs.py\n",
      "ERROR: Parse error at line 46 column 22:\n",
      "\n",
      "    9: import glob\n",
      "   10: import logging\n",
      "   11: import os\n",
      "   12: import subprocess\n",
      "   13: import urllib\n",
      "   14: import json\n",
      "   15: \n",
      "   16: execfile(\"common.conf\")\n",
      "   17: \n",
      "   18: URL = \"https://whimsy.apache.org/public/committee-info.json\"\n",
      "   19: \n",
      "   20: LISTDIR = \"APMAIL_HOME/lists'\n",
      "   21: TARGET = 'APMAIL_HOME/.qmail-pmcs'\n",
      "   22: \n",
      "   23: logging.getLogger().setLevel(logging.INFO)\n",
      "   24: \n",
      "   25: def main():\n",
      "   26:     pmcs = []\n",
      "   27:     cttees = json.load(urllib.urlopen(URL),'utf-8')['committees']\n",
      "   28:     for j in cttees:\n",
      "   29:         cttee = cttees[j]\n",
      "   30:         if cttee['pmc']:\n",
      "   31:             pmcs += [cttee['mail_list']]\n",
      "   32: \n",
      "   33:     fd = open(TARGET+'.t', 'w')\n",
      "   34:     fd.write('| APMAIL_HOME/bin/ezmlm-filter-bcc pmcs@apache.org\\n')\n",
      "   35:     for p in sorted(set(pmcs)):\n",
      "   36:         fd.write('private@%s.apache.org\\n' % p)\n",
      "   37:     fd.flush()\n",
      "   38:     fd.close()\n",
      "   39:     # get the new PMCs\n",
      "   40:     diff = subprocess.check_output(['comm', '-13', TARGET, TARGET+'.t'])\n",
      "   41:     os.rename(TARGET+'.t', TARGET)\n",
      "   42: \n",
      "   43:     for listname in diff.splitlines():\n",
      "   44:         tlp = listname.strip().split('@')[1].split('.')[0]\n",
      "   45:         assert listname == ('private@%s.apache.org' % tlp)\n",
      "  -->          logging.info(\"Setting outhost for *@%s.apache.org\", tlp)\n",
      "   47:         for outhost in glob.glob('%s/%s.apache.org/*/outhost' % (LISTDIR, tlp\n",
      "\n",
      "ERROR: Unable to parse file: modules/gitbox/files/bin/gitlock.py\n",
      "ERROR: Parse error at line 3 column 0:\n",
      "\n",
      "  -->      import os\n",
      "    4:     import sys\n",
      "    5:     import subprocess\n",
      "    6:     import time\n",
      "    7:     import getpass\n",
      "    8: \n",
      "    9:     GIT_ROOT = \"/x1/repos/asf\"\n",
      "   10: \n",
      "   11: \n",
      "   12:     def lock(l):\n",
      "   13:         \"\"\" Locks or unlocks all repos. If unlocking, also syncs with github first \"\"\"\n",
      "   14: \n",
      "\n"
     ]
    },
    {
     "name": "stdout",
     "output_type": "stream",
     "text": [
      "exporting results of infrastructure-puppet\n",
      "cleaning up after infrastructure-puppet\n",
      "completed analysis on infrastructure-puppet\n",
      "filtered out gobblin.\n",
      "filtered out nifi.\n",
      "filtered out kylin.\n",
      "filtered out tinkerpop.\n",
      "filtered out ignite.\n",
      "filtered out samza.\n",
      "filtered out zeppelin.\n",
      "retrieving repository of airflow\n",
      "checking out at date for airflow\n"
     ]
    },
    {
     "name": "stderr",
     "output_type": "stream",
     "text": [
      "Note: switching to '723c52c942b49b0e8c8fa8667a4a6a45fa249498'.\n",
      "\n",
      "You are in 'detached HEAD' state. You can look around, make experimental\n",
      "changes and commit them, and you can discard any commits you make in this\n",
      "state without impacting any branches by switching back to a branch.\n",
      "\n",
      "If you want to create a new branch to retain commits you create, you may\n",
      "do so (now or later) by using -c with the switch command. Example:\n",
      "\n",
      "  git switch -c <new-branch-name>\n",
      "\n",
      "Or undo this operation with:\n",
      "\n",
      "  git switch -\n",
      "\n",
      "Turn off this advice by setting config variable advice.detachedHead to false\n",
      "\n",
      "HEAD is now at 723c52c94 Add documentation for SpannerDeployInstanceOperator (#8750)\n"
     ]
    },
    {
     "name": "stdout",
     "output_type": "stream",
     "text": [
      "creating project for airflow\n",
      "running sonarqube on airflow\n",
      "exporting results of airflow\n",
      "cleaning up after airflow\n",
      "completed analysis on airflow\n",
      "filtered out groovy.\n",
      "filtered out geode.\n",
      "retrieving repository of incubator-mxnet\n",
      "checking out at date for incubator-mxnet\n"
     ]
    },
    {
     "name": "stderr",
     "output_type": "stream",
     "text": [
      "Note: switching to '23df47fcd44891864c2bb4a7800e8faa30471ff2'.\n",
      "\n",
      "You are in 'detached HEAD' state. You can look around, make experimental\n",
      "changes and commit them, and you can discard any commits you make in this\n",
      "state without impacting any branches by switching back to a branch.\n",
      "\n",
      "If you want to create a new branch to retain commits you create, you may\n",
      "do so (now or later) by using -c with the switch command. Example:\n",
      "\n",
      "  git switch -c <new-branch-name>\n",
      "\n",
      "Or undo this operation with:\n",
      "\n",
      "  git switch -\n",
      "\n",
      "Turn off this advice by setting config variable advice.detachedHead to false\n",
      "\n",
      "HEAD is now at 23df47fcd Fix gluon link missing (#18243)\n"
     ]
    },
    {
     "name": "stdout",
     "output_type": "stream",
     "text": [
      "creating project for incubator-mxnet\n",
      "running sonarqube on incubator-mxnet\n"
     ]
    },
    {
     "name": "stderr",
     "output_type": "stream",
     "text": [
      "ERROR: Unable to parse file: file:///workspace/scripts/compilation%20pipeline/repos/incubator-mxnet/docker/Dockerfiles/Dockerfile.in.scala. Parse error at position 1:0\n",
      "ERROR: Cannot parse 'docker/Dockerfiles/Dockerfile.in.scala': Unable to parse file content.\n"
     ]
    },
    {
     "name": "stdout",
     "output_type": "stream",
     "text": [
      "exporting results of incubator-mxnet\n",
      "cleaning up after incubator-mxnet\n",
      "completed analysis on incubator-mxnet\n",
      "retrieving repository of orc\n",
      "checking out at date for orc\n"
     ]
    },
    {
     "name": "stderr",
     "output_type": "stream",
     "text": [
      "Note: switching to '31ed8b44e4889f15736ad926c8ce6f8286173a41'.\n",
      "\n",
      "You are in 'detached HEAD' state. You can look around, make experimental\n",
      "changes and commit them, and you can discard any commits you make in this\n",
      "state without impacting any branches by switching back to a branch.\n",
      "\n",
      "If you want to create a new branch to retain commits you create, you may\n",
      "do so (now or later) by using -c with the switch command. Example:\n",
      "\n",
      "  git switch -c <new-branch-name>\n",
      "\n",
      "Or undo this operation with:\n",
      "\n",
      "  git switch -\n",
      "\n",
      "Turn off this advice by setting config variable advice.detachedHead to false\n",
      "\n",
      "HEAD is now at 31ed8b44 Add ORC-1.5.10 and 1.6.3 to site.\n"
     ]
    },
    {
     "name": "stdout",
     "output_type": "stream",
     "text": [
      "creating project for orc\n",
      "running sonarqube on orc\n"
     ]
    },
    {
     "name": "stderr",
     "output_type": "stream",
     "text": [
      "ERROR: Failed to parse file:///workspace/scripts/compilation%20pipeline/repos/orc/site/css/screen.scss, line 1, Unknown word\n"
     ]
    },
    {
     "name": "stdout",
     "output_type": "stream",
     "text": [
      "exporting results of orc\n",
      "cleaning up after orc\n",
      "completed analysis on orc\n",
      "retrieving repository of flink-web\n",
      "checking out at date for flink-web\n"
     ]
    },
    {
     "name": "stderr",
     "output_type": "stream",
     "text": [
      "Note: switching to 'e5b23762bfa48927f374c293306ac77e8e212c36'.\n",
      "\n",
      "You are in 'detached HEAD' state. You can look around, make experimental\n",
      "changes and commit them, and you can discard any commits you make in this\n",
      "state without impacting any branches by switching back to a branch.\n",
      "\n",
      "If you want to create a new branch to retain commits you create, you may\n",
      "do so (now or later) by using -c with the switch command. Example:\n",
      "\n",
      "  git switch -c <new-branch-name>\n",
      "\n",
      "Or undo this operation with:\n",
      "\n",
      "  git switch -\n",
      "\n",
      "Turn off this advice by setting config variable advice.detachedHead to false\n",
      "\n",
      "HEAD is now at e5b23762 Adding a new community update blogpost.\n"
     ]
    },
    {
     "name": "stdout",
     "output_type": "stream",
     "text": [
      "creating project for flink-web\n",
      "running sonarqube on flink-web\n",
      "exporting results of flink-web\n",
      "cleaning up after flink-web\n",
      "completed analysis on flink-web\n",
      "filtered out activemq-artemis.\n",
      "retrieving repository of trafodion\n",
      "checking out at date for trafodion\n"
     ]
    },
    {
     "name": "stderr",
     "output_type": "stream",
     "text": [
      "Note: switching to '962d9f8cab74b910da77329d2b1e5ba03f89b456'.\n",
      "\n",
      "You are in 'detached HEAD' state. You can look around, make experimental\n",
      "changes and commit them, and you can discard any commits you make in this\n",
      "state without impacting any branches by switching back to a branch.\n",
      "\n",
      "If you want to create a new branch to retain commits you create, you may\n",
      "do so (now or later) by using -c with the switch command. Example:\n",
      "\n",
      "  git switch -c <new-branch-name>\n",
      "\n",
      "Or undo this operation with:\n",
      "\n",
      "  git switch -\n",
      "\n",
      "Turn off this advice by setting config variable advice.detachedHead to false\n",
      "\n",
      "HEAD is now at 962d9f8ca Merge pull request #1875 from selvaganesang/release2.4\n"
     ]
    },
    {
     "name": "stdout",
     "output_type": "stream",
     "text": [
      "creating project for trafodion\n",
      "running sonarqube on trafodion\n"
     ]
    },
    {
     "name": "stderr",
     "output_type": "stream",
     "text": [
      "ERROR: Unable to parse file: docs/command_interface/src/resources/source/sample.py\n",
      "ERROR: Parse error at line 1 column 0:\n",
      "\n",
      "  -->  import os import sys\n",
      "    2: \n",
      "    3: \n",
      "    4: sys.path.append(\"C:\\\\Program Files (x86)\\\\Apache Software Foundation\\\\Trafodion Command Interface\\\\lib\\\\python\")\n",
      "    5: import Session\n",
      "    6: \n",
      "    7: \n",
      "    8: sess = Session.Session()\n",
      "    9: \n",
      "   10: \n",
      "   11: x=sess. connect\n",
      "\n",
      "ERROR: Unable to parse file: core/conn/trafci/lib/python/Session.py\n",
      "ERROR: Parse error at line 23 column 39:\n",
      "\n",
      "   22: import sys\n",
      "  -->  sys.path +=                            \n",
      "   24: from org.trafodion.ci import ScriptsInterface\n",
      "   25: from java.lang import System\n",
      "   26: from java.io import PrintStream\n",
      "   27: from java.io import BufferedOutputStream\n",
      "\n",
      "ERROR: Failed to parse file:///workspace/scripts/compilation%20pipeline/repos/trafodion/dcs/src/main/resources/dcs-webapps/master/datatables/css/jquery.dataTables_themeroller.css, line 101, Unknown word\n",
      "ERROR: Failed to parse file:///workspace/scripts/compilation%20pipeline/repos/trafodion/dcs/src/main/resources/dcs-webapps/master/datatables/css/demo_table.css, line 157, Unknown word\n",
      "ERROR: Failed to parse file:///workspace/scripts/compilation%20pipeline/repos/trafodion/dcs/src/main/resources/dcs-webapps/static/dcs.css, line 62, Unknown word\n",
      "ERROR: Failed to parse file:///workspace/scripts/compilation%20pipeline/repos/trafodion/docs/src/site/resources/css/site.css, line 27, Unknown word\n",
      "ERROR: Failed to parse file:///workspace/scripts/compilation%20pipeline/repos/trafodion/dcs/src/main/resources/dcs-webapps/master/datatables/css/demo_table_jui.css, line 37, Unknown word\n",
      "ERROR: Failed to parse file:///workspace/scripts/compilation%20pipeline/repos/trafodion/wms/src/main/resources/wms-webapps/static/wms.css, line 60, Unknown word\n"
     ]
    },
    {
     "name": "stdout",
     "output_type": "stream",
     "text": [
      "exporting results of trafodion\n",
      "cleaning up after trafodion\n",
      "completed analysis on trafodion\n",
      "filtered out apex-core.\n",
      "filtered out apex-malhar.\n"
     ]
    }
   ],
   "source": [
    "def perform_lifecycle(entry: array):\n",
    "\n",
    "    name = entry[PROJECT_NAME]\n",
    "\n",
    "    # step 1: filtering\n",
    "    if not is_considered(entry):\n",
    "        print(f\"filtered out {name}.\")\n",
    "        return\n",
    "\n",
    "    # step 2: cloning repositories.\n",
    "    print(f'retrieving repository of {name}')\n",
    "    status, dir = clone_repository(entry)\n",
    "    if status != 0:\n",
    "        print(f'cloning repository failed for {name} with status {status}')\n",
    "        return\n",
    "\n",
    "    time.sleep(1)\n",
    "    # step 2a: checking out at date.\n",
    "    print(f'checking out at date for {name}')\n",
    "    checkout_date(dir, entry)\n",
    "\n",
    "    # step 3: creating sonarqube project\n",
    "    print(f'creating project for {name}')\n",
    "    status = create_sonarqube_project(entry)\n",
    "    if status != 200:\n",
    "        print(f'creating project failed for {name}')\n",
    "        return\n",
    "\n",
    "    # step 4: running SonarQube\n",
    "    print(f'running sonarqube on {name}')\n",
    "    status = perform_sonarqube_analysis(entry, dir)\n",
    "    if status != 0:\n",
    "        print(f'sonarqube analysis failed for {name} with status {status}')\n",
    "    else:\n",
    "        # step 5: extracting sonarqube data\n",
    "        print(f'exporting results of {name}')\n",
    "        export_sonarqube_issues(entry)\n",
    "\n",
    "    # step 6: deleting sonarqube project\n",
    "    print(f'cleaning up after {name}')\n",
    "    # delete_sonarqube_project(entry)\n",
    "    # delete_repository(entry, dir)\n",
    "\n",
    "    print(f'completed analysis on {name}')\n",
    "\n",
    "\n",
    "for entry in data:\n",
    "    perform_lifecycle(entry)\n"
   ]
  }
 ],
 "metadata": {
  "interpreter": {
   "hash": "916dbcbb3f70747c44a77c7bcd40155683ae19c65e1c03b4aa3499c5328201f1"
  },
  "kernelspec": {
   "display_name": "Python 3.8.10 64-bit",
   "language": "python",
   "name": "python3"
  },
  "language_info": {
   "codemirror_mode": {
    "name": "ipython",
    "version": 3
   },
   "file_extension": ".py",
   "mimetype": "text/x-python",
   "name": "python",
   "nbconvert_exporter": "python",
   "pygments_lexer": "ipython3",
   "version": "3.9.2"
  },
  "orig_nbformat": 4
 },
 "nbformat": 4,
 "nbformat_minor": 2
}

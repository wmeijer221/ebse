{
 "cells": [
  {
   "cell_type": "markdown",
   "metadata": {},
   "source": [
    "Contains the complete step-wise filter, pull, and SonarQube analysis pipeline for the provided git repositories.  \n",
    "The expected input is a list of repositories of which the data is acquired through the github web API.\n",
    "\n",
    "Make sure that a SonarQube instance is running prior to running this script and that the credentials used in the analysis phase are set correctly.\n",
    "Consider that executing this script takes quite a while to complete.\n",
    "\n",
    "- SonarQube logs are put in the `./output` folder, you can use this to figure out why SonarQube fails when analyzing certain projects.\n",
    "- The results are put in the `./results` folder.\n",
    "\n",
    "If you interrupt this script halfway through, or the script crashes at some point, it might be that it doesn't work the next run.\n",
    "Restarting Jupyter might help here, but also check if the access tokens are revoked correctly.\n"
   ]
  },
  {
   "cell_type": "code",
   "execution_count": 103,
   "metadata": {},
   "outputs": [
    {
     "name": "stdout",
     "output_type": "stream",
     "text": [
      "loaded data:\n",
      "[['trafficserver', 'https://github.com/apache/trafficserver', '132898', 'master', 'C++']]\n"
     ]
    }
   ],
   "source": [
    "import array\n",
    "from git import Repo, GitCommandError\n",
    "import os\n",
    "import requests\n",
    "import subprocess\n",
    "from typing import Tuple\n",
    "import shutil\n",
    "\n",
    "with open(\"./data/test_repositories.csv\", \"r\") as data_file:\n",
    "    data = [entry.strip().split(\",\") for entry in data_file.readlines()[1:]]\n",
    "\n",
    "print(f'loaded data:\\n{data}')\n"
   ]
  },
  {
   "cell_type": "markdown",
   "metadata": {},
   "source": [
    "Step 1 of the lifecycle, all methods used to statically filter the repositories.\n"
   ]
  },
  {
   "cell_type": "code",
   "execution_count": 104,
   "metadata": {},
   "outputs": [],
   "source": [
    "PROJECT_TYPE = 4\n",
    "\n",
    "\n",
    "def is_not_java(entry: array) -> bool:\n",
    "    return entry[PROJECT_TYPE] != \"Java\"\n",
    "\n",
    "\n",
    "def is_considered(entry: array) -> bool:\n",
    "    \"\"\"Returns true if the project is a maven project\"\"\"\n",
    "\n",
    "    # return is_java(entry) and is_maven(entry)\n",
    "    return is_not_java(entry)\n"
   ]
  },
  {
   "cell_type": "markdown",
   "metadata": {},
   "source": [
    "Step 2 of the lifecycle, cloning a repository\n"
   ]
  },
  {
   "cell_type": "code",
   "execution_count": 105,
   "metadata": {},
   "outputs": [],
   "source": [
    "PROJECT_NAME = 0\n",
    "PROJECT_REPO_URL = 1\n",
    "\n",
    "\n",
    "def clone_repository(entry: array) -> Tuple[int, str]:\n",
    "    \"\"\"\n",
    "    Clones repository to the ./repos folder and \n",
    "    returns the status code and repo's folder.\n",
    "    \"\"\"\n",
    "\n",
    "    url = entry[PROJECT_REPO_URL]\n",
    "    dir = os.path.join(\"./repos\", entry[PROJECT_NAME])\n",
    "\n",
    "    try:\n",
    "        Repo.clone_from(url, dir)\n",
    "        status = 0\n",
    "\n",
    "    except GitCommandError as e:\n",
    "        if e.status != 128:\n",
    "            status = e.status\n",
    "        else:\n",
    "            status = 0\n",
    "            print(f'repository for {entry[PROJECT_NAME]} is already cloned')\n",
    "\n",
    "    finally:\n",
    "        return status, dir\n"
   ]
  },
  {
   "cell_type": "markdown",
   "metadata": {},
   "source": [
    "Implements steps 3 to 5 of the lifecycle, the SonarQube steps.\n"
   ]
  },
  {
   "cell_type": "code",
   "execution_count": 106,
   "metadata": {},
   "outputs": [],
   "source": [
    "server_url = \"http://localhost:9000\"\n",
    "auth = ('admin', 'password')\n",
    "\n",
    "\n",
    "def create_sonarqube_project(entry: array) -> int:\n",
    "    \"\"\"Creates SonarQube project if none exists yet\"\"\"\n",
    "\n",
    "    name = entry[PROJECT_NAME]\n",
    "\n",
    "    url = f\"{server_url}/api/projects/create\"\n",
    "    data = {'name': name, 'project': name, 'visibility': 'public'}\n",
    "    c_res = requests.post(url=url, data=data, auth=auth)\n",
    "\n",
    "    return c_res.status_code\n",
    "\n",
    "\n",
    "def create_sonarqube_token(entry:array) -> Tuple[int, str]:\n",
    "    \"\"\"Generates new SonarQube token\"\"\"\n",
    "\n",
    "    name = entry[PROJECT_NAME]\n",
    "\n",
    "    url = f\"{server_url}/api/user_tokens/generate\"\n",
    "    data = {'name': name}\n",
    "    t_res = requests.post(url=url, data=data, auth=auth)\n",
    "    token = t_res.json()[\"token\"]\n",
    "\n",
    "    return t_res.status_code, token\n",
    "\n",
    "\n",
    "def perform_sonarqube_analysis(entry: array, dir: str, token: str) -> int:\n",
    "    \"\"\"Executes sonarqube analaysis and sends it to the server\"\"\"\n",
    "\n",
    "    name = entry[PROJECT_NAME]\n",
    "\n",
    "    args = [\n",
    "        'sonar-scanner',\n",
    "        '-Dsonar.sources=.',\n",
    "        f'-Dsonar.projectKey={name}',\n",
    "        f'-Dsonar.host.url={server_url}',\n",
    "        f'-Dsonar.login={token}',\n",
    "        '-Dsonar.coverage.exclusions=/**.java',\n",
    "        '-Dsonar.test.exclusions=/**.java',\n",
    "        '-Dsonar.exclusions=/**.java'\n",
    "    ]\n",
    "    \n",
    "    with open(f\"./output/{name}-sonarqube-output.log\", \"w\") as output_file:\n",
    "        os.chdir(dir)\n",
    "        res = subprocess.run(args, stdout=output_file)\n",
    "\n",
    "    # TODO: this shouldn't assume two layers.\n",
    "    os.chdir(\"../..\")\n",
    "\n",
    "    return res.returncode\n",
    "\n",
    "\n",
    "def export_sonarqube_issues(entry: array):\n",
    "    \"\"\"Exports the generated issues through the web API\"\"\"\n",
    "\n",
    "    name = entry[PROJECT_NAME]\n",
    "\n",
    "    url = f\"{server_url}/api/issues/search\"\n",
    "    data = {'componentKeys': name}\n",
    "    res = requests.get(url=url, data=data, auth=auth)\n",
    "\n",
    "    with open(f\"./results/issues-{name}.json\", \"w\") as results_file:\n",
    "        results_file.write(res.text)\n"
   ]
  },
  {
   "cell_type": "markdown",
   "metadata": {},
   "source": [
    "Step 6 of the lifecycle, clean up methods\n"
   ]
  },
  {
   "cell_type": "code",
   "execution_count": 107,
   "metadata": {},
   "outputs": [],
   "source": [
    "def revoke_sonarqube_token(entry: array):\n",
    "    \"\"\"Revokes the sonarqube access token\"\"\"\n",
    "\n",
    "    name = entry[PROJECT_NAME]\n",
    "\n",
    "    url = f'{server_url}/api/user_tokens/revoke'\n",
    "    data = {'name': name}\n",
    "    requests.post(url=url, data=data, auth=auth)\n",
    "\n",
    "\n",
    "def delete_sonarqube_project(entry: array):\n",
    "    \"\"\"Deletes sonarqube project \"\"\"\n",
    "\n",
    "    name = entry[PROJECT_NAME]\n",
    "\n",
    "    url = f'{server_url}/api/projects/delete'\n",
    "    data = {'project': name}\n",
    "    requests.post(url=url, data=data, auth=auth)\n",
    "\n",
    "\n",
    "def delete_repository(entry, dir):\n",
    "    \"\"\"Deletes repository\"\"\"\n",
    "\n",
    "    shutil.rmtree(dir)\n"
   ]
  },
  {
   "cell_type": "markdown",
   "metadata": {},
   "source": [
    "Implements the pipeline lifecycle.\n",
    "\n",
    "1. filtering repositories\n",
    "2. cloning repositories\n",
    "3. creating SonarQube project\n",
    "4. analyzing repository\n",
    "5. exporting results\n",
    "6. (optional) deleting sonarqube project\n"
   ]
  },
  {
   "cell_type": "code",
   "execution_count": 108,
   "metadata": {},
   "outputs": [
    {
     "name": "stdout",
     "output_type": "stream",
     "text": [
      "retrieving repository of trafficserver\n",
      "creating project for trafficserver\n",
      "creating project failed for trafficserver\n"
     ]
    },
    {
     "ename": "ChildProcessError",
     "evalue": "[Errno 10] No child processes",
     "output_type": "error",
     "traceback": [
      "\u001b[0;31m---------------------------------------------------------------------------\u001b[0m",
      "\u001b[0;31mChildProcessError\u001b[0m                         Traceback (most recent call last)",
      "\u001b[0;32m/tmp/ipykernel_73015/711555172.py\u001b[0m in \u001b[0;36m<module>\u001b[0;34m\u001b[0m\n\u001b[1;32m     52\u001b[0m     \u001b[0mperform_lifecycle\u001b[0m\u001b[0;34m(\u001b[0m\u001b[0mentry\u001b[0m\u001b[0;34m)\u001b[0m\u001b[0;34m\u001b[0m\u001b[0;34m\u001b[0m\u001b[0m\n\u001b[1;32m     53\u001b[0m \u001b[0;34m\u001b[0m\u001b[0m\n\u001b[0;32m---> 54\u001b[0;31m \u001b[0mos\u001b[0m\u001b[0;34m.\u001b[0m\u001b[0mwait\u001b[0m\u001b[0;34m(\u001b[0m\u001b[0;34m)\u001b[0m\u001b[0;34m\u001b[0m\u001b[0;34m\u001b[0m\u001b[0m\n\u001b[0m",
      "\u001b[0;31mChildProcessError\u001b[0m: [Errno 10] No child processes"
     ]
    }
   ],
   "source": [
    "def perform_lifecycle(entry: array):\n",
    "\n",
    "    name = entry[PROJECT_NAME]\n",
    "\n",
    "    # step 1: filtering\n",
    "    if not is_considered(entry):\n",
    "        print(f\"filtered out {name}.\")\n",
    "        return\n",
    "\n",
    "    # step 2: cloning repositories.\n",
    "    print(f'retrieving repository of {name}')\n",
    "    status, dir = clone_repository(entry)\n",
    "    if status != 0:\n",
    "        print(f'cloning repository failed for {name} with status {status}')\n",
    "        return\n",
    "\n",
    "    # step 3: creating sonarqube project\n",
    "    print(f'creating project for {name}')\n",
    "    status = create_sonarqube_project(entry)\n",
    "    if status != 200: \n",
    "        print(f'creating project failed for {name}')\n",
    "        return \n",
    "\n",
    "    # step 3a: creating access token\n",
    "    print(f'creating access token for {name}')\n",
    "    status, token = create_sonarqube_token(entry)\n",
    "    if status != 200: \n",
    "        print(f'creating token failed for {name}')\n",
    "        return \n",
    "\n",
    "    # step 4: running SonarQube\n",
    "    print(f'running sonarqube on {name} ({token=})')\n",
    "    status = perform_sonarqube_analysis(entry, dir, token)\n",
    "    if status != 0:\n",
    "        print(f'sonarqube analysis failed for {name} with status {status}')\n",
    "        return\n",
    "\n",
    "    # step 5: extracting sonarqube data\n",
    "    print(f'exporting results of {name}')\n",
    "    export_sonarqube_issues(entry)\n",
    "\n",
    "    # step 6: deleting sonarqube project\n",
    "    print(f'cleaning up after {name}')\n",
    "    revoke_sonarqube_token(entry)\n",
    "    # delete_sonarqube_project(entry)\n",
    "    delete_repository(entry, dir)\n",
    "\n",
    "    print(f'completed analysis on {name}')\n",
    "\n",
    "\n",
    "for entry in data:\n",
    "    perform_lifecycle(entry)\n"
   ]
  }
 ],
 "metadata": {
  "interpreter": {
   "hash": "916dbcbb3f70747c44a77c7bcd40155683ae19c65e1c03b4aa3499c5328201f1"
  },
  "kernelspec": {
   "display_name": "Python 3.8.10 64-bit",
   "language": "python",
   "name": "python3"
  },
  "language_info": {
   "codemirror_mode": {
    "name": "ipython",
    "version": 3
   },
   "file_extension": ".py",
   "mimetype": "text/x-python",
   "name": "python",
   "nbconvert_exporter": "python",
   "pygments_lexer": "ipython3",
   "version": "3.8.10"
  },
  "orig_nbformat": 4
 },
 "nbformat": 4,
 "nbformat_minor": 2
}
